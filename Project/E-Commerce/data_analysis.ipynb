{
 "metadata": {
  "language_info": {
   "codemirror_mode": {
    "name": "ipython",
    "version": 3
   },
   "file_extension": ".py",
   "mimetype": "text/x-python",
   "name": "python",
   "nbconvert_exporter": "python",
   "pygments_lexer": "ipython3",
   "version": "3.9.0"
  },
  "orig_nbformat": 2,
  "kernelspec": {
   "name": "python390jvsc74a57bd043a9cd95aa030499ef934e4da31e07dde54f3fc3a1fd0cc4aeef7f16459ee2ac",
   "display_name": "Python 3.9.0 64-bit"
  },
  "metadata": {
   "interpreter": {
    "hash": "4ab2ae14c63d256e2c14138b919be176e86cfdf7b485126d970051b6699232f4"
   }
  }
 },
 "nbformat": 4,
 "nbformat_minor": 2,
 "cells": [
  {
   "cell_type": "code",
   "execution_count": 1,
   "metadata": {},
   "outputs": [],
   "source": [
    "import pandas as pd \n",
    "import numpy as np "
   ]
  },
  {
   "cell_type": "code",
   "execution_count": 2,
   "metadata": {},
   "outputs": [
    {
     "output_type": "execute_result",
     "data": {
      "text/plain": [
       "        Customer_Name Province   Region Customer_Segment Cust_id\n",
       "0  MUHAMMED MACINTYRE  NUNAVUT  NUNAVUT   SMALL BUSINESS  Cust_1\n",
       "1        BARRY FRENCH  NUNAVUT  NUNAVUT         CONSUMER  Cust_2\n",
       "2       CLAY ROZENDAL  NUNAVUT  NUNAVUT        CORPORATE  Cust_3\n",
       "3      CARLOS SOLTERO  NUNAVUT  NUNAVUT         CONSUMER  Cust_4\n",
       "4        CARL JACKSON  NUNAVUT  NUNAVUT        CORPORATE  Cust_5"
      ],
      "text/html": "<div>\n<style scoped>\n    .dataframe tbody tr th:only-of-type {\n        vertical-align: middle;\n    }\n\n    .dataframe tbody tr th {\n        vertical-align: top;\n    }\n\n    .dataframe thead th {\n        text-align: right;\n    }\n</style>\n<table border=\"1\" class=\"dataframe\">\n  <thead>\n    <tr style=\"text-align: right;\">\n      <th></th>\n      <th>Customer_Name</th>\n      <th>Province</th>\n      <th>Region</th>\n      <th>Customer_Segment</th>\n      <th>Cust_id</th>\n    </tr>\n  </thead>\n  <tbody>\n    <tr>\n      <th>0</th>\n      <td>MUHAMMED MACINTYRE</td>\n      <td>NUNAVUT</td>\n      <td>NUNAVUT</td>\n      <td>SMALL BUSINESS</td>\n      <td>Cust_1</td>\n    </tr>\n    <tr>\n      <th>1</th>\n      <td>BARRY FRENCH</td>\n      <td>NUNAVUT</td>\n      <td>NUNAVUT</td>\n      <td>CONSUMER</td>\n      <td>Cust_2</td>\n    </tr>\n    <tr>\n      <th>2</th>\n      <td>CLAY ROZENDAL</td>\n      <td>NUNAVUT</td>\n      <td>NUNAVUT</td>\n      <td>CORPORATE</td>\n      <td>Cust_3</td>\n    </tr>\n    <tr>\n      <th>3</th>\n      <td>CARLOS SOLTERO</td>\n      <td>NUNAVUT</td>\n      <td>NUNAVUT</td>\n      <td>CONSUMER</td>\n      <td>Cust_4</td>\n    </tr>\n    <tr>\n      <th>4</th>\n      <td>CARL JACKSON</td>\n      <td>NUNAVUT</td>\n      <td>NUNAVUT</td>\n      <td>CORPORATE</td>\n      <td>Cust_5</td>\n    </tr>\n  </tbody>\n</table>\n</div>"
     },
     "metadata": {},
     "execution_count": 2
    }
   ],
   "source": [
    "df1 = pd.read_csv(\"cust_dimen.csv\")\n",
    "df1.head()"
   ]
  },
  {
   "cell_type": "code",
   "execution_count": 3,
   "metadata": {},
   "outputs": [
    {
     "output_type": "execute_result",
     "data": {
      "text/plain": [
       "     Ord_id  Prod_id   Ship_id    Cust_id    Sales  Discount  Order_Quantity  \\\n",
       "0  Ord_5446  Prod_16  SHP_7609  Cust_1818   136.81      0.01              23   \n",
       "1  Ord_5406  Prod_13  SHP_7549  Cust_1818    42.27      0.01              13   \n",
       "2  Ord_5446   Prod_4  SHP_7610  Cust_1818  4701.69      0.00              26   \n",
       "3  Ord_5456   Prod_6  SHP_7625  Cust_1818  2337.89      0.09              43   \n",
       "4  Ord_5485  Prod_17  SHP_7664  Cust_1818  4233.15      0.08              35   \n",
       "\n",
       "    Profit  Shipping_Cost  Product_Base_Margin  \n",
       "0   -30.51           3.60                 0.56  \n",
       "1     4.56           0.93                 0.54  \n",
       "2  1148.90           2.50                 0.59  \n",
       "3   729.34          14.30                 0.37  \n",
       "4  1219.87          26.30                 0.38  "
      ],
      "text/html": "<div>\n<style scoped>\n    .dataframe tbody tr th:only-of-type {\n        vertical-align: middle;\n    }\n\n    .dataframe tbody tr th {\n        vertical-align: top;\n    }\n\n    .dataframe thead th {\n        text-align: right;\n    }\n</style>\n<table border=\"1\" class=\"dataframe\">\n  <thead>\n    <tr style=\"text-align: right;\">\n      <th></th>\n      <th>Ord_id</th>\n      <th>Prod_id</th>\n      <th>Ship_id</th>\n      <th>Cust_id</th>\n      <th>Sales</th>\n      <th>Discount</th>\n      <th>Order_Quantity</th>\n      <th>Profit</th>\n      <th>Shipping_Cost</th>\n      <th>Product_Base_Margin</th>\n    </tr>\n  </thead>\n  <tbody>\n    <tr>\n      <th>0</th>\n      <td>Ord_5446</td>\n      <td>Prod_16</td>\n      <td>SHP_7609</td>\n      <td>Cust_1818</td>\n      <td>136.81</td>\n      <td>0.01</td>\n      <td>23</td>\n      <td>-30.51</td>\n      <td>3.60</td>\n      <td>0.56</td>\n    </tr>\n    <tr>\n      <th>1</th>\n      <td>Ord_5406</td>\n      <td>Prod_13</td>\n      <td>SHP_7549</td>\n      <td>Cust_1818</td>\n      <td>42.27</td>\n      <td>0.01</td>\n      <td>13</td>\n      <td>4.56</td>\n      <td>0.93</td>\n      <td>0.54</td>\n    </tr>\n    <tr>\n      <th>2</th>\n      <td>Ord_5446</td>\n      <td>Prod_4</td>\n      <td>SHP_7610</td>\n      <td>Cust_1818</td>\n      <td>4701.69</td>\n      <td>0.00</td>\n      <td>26</td>\n      <td>1148.90</td>\n      <td>2.50</td>\n      <td>0.59</td>\n    </tr>\n    <tr>\n      <th>3</th>\n      <td>Ord_5456</td>\n      <td>Prod_6</td>\n      <td>SHP_7625</td>\n      <td>Cust_1818</td>\n      <td>2337.89</td>\n      <td>0.09</td>\n      <td>43</td>\n      <td>729.34</td>\n      <td>14.30</td>\n      <td>0.37</td>\n    </tr>\n    <tr>\n      <th>4</th>\n      <td>Ord_5485</td>\n      <td>Prod_17</td>\n      <td>SHP_7664</td>\n      <td>Cust_1818</td>\n      <td>4233.15</td>\n      <td>0.08</td>\n      <td>35</td>\n      <td>1219.87</td>\n      <td>26.30</td>\n      <td>0.38</td>\n    </tr>\n  </tbody>\n</table>\n</div>"
     },
     "metadata": {},
     "execution_count": 3
    }
   ],
   "source": [
    "df2 = pd.read_csv(\"market_fact.csv\")\n",
    "df2.head()"
   ]
  },
  {
   "cell_type": "code",
   "execution_count": 10,
   "metadata": {},
   "outputs": [
    {
     "output_type": "execute_result",
     "data": {
      "text/plain": [
       "        Ord_id Prod_id   Ship_id    Cust_id    Sales  Discount  \\\n",
       "1593  Ord_1067  Prod_1  SHP_1474   Cust_397  7333.45      0.07   \n",
       "6127  Ord_1791  Prod_1  SHP_2482   Cust_838   416.40      0.02   \n",
       "4794  Ord_4923  Prod_1  SHP_6867  Cust_1681  1438.33      0.08   \n",
       "2595  Ord_4464  Prod_1  SHP_6219  Cust_1445   279.77      0.07   \n",
       "7772  Ord_3210  Prod_1  SHP_4452  Cust_1183   494.34      0.05   \n",
       "...        ...     ...       ...        ...      ...       ...   \n",
       "4693  Ord_2970  Prod_9  SHP_5273  Cust_1326   141.90      0.02   \n",
       "7343   Ord_701  Prod_9   SHP_959   Cust_240   355.69      0.09   \n",
       "8134  Ord_2619  Prod_9  SHP_3584   Cust_990   775.77      0.07   \n",
       "1669  Ord_5073  Prod_9  SHP_7083  Cust_1720   741.57      0.10   \n",
       "8177  Ord_5166  Prod_9  SHP_7220  Cust_1755   347.84      0.00   \n",
       "\n",
       "      Order_Quantity  Profit  Shipping_Cost  Product_Base_Margin  \n",
       "1593              27 -207.28          35.00                 0.80  \n",
       "6127              24   24.33           4.96                 0.58  \n",
       "4794              43  163.38           8.22                 0.57  \n",
       "2595               8  -14.02           8.22                 0.57  \n",
       "7772              15  -30.19           6.72                 0.75  \n",
       "...              ...     ...            ...                  ...  \n",
       "4693              12    1.46           5.72                 0.35  \n",
       "7343              42 -149.46           8.29                 0.38  \n",
       "8134              20  179.37           9.83                 0.40  \n",
       "1669              49  352.41           1.39                 0.38  \n",
       "8177              37  -99.25           8.29                 0.38  \n",
       "\n",
       "[8399 rows x 10 columns]"
      ],
      "text/html": "<div>\n<style scoped>\n    .dataframe tbody tr th:only-of-type {\n        vertical-align: middle;\n    }\n\n    .dataframe tbody tr th {\n        vertical-align: top;\n    }\n\n    .dataframe thead th {\n        text-align: right;\n    }\n</style>\n<table border=\"1\" class=\"dataframe\">\n  <thead>\n    <tr style=\"text-align: right;\">\n      <th></th>\n      <th>Ord_id</th>\n      <th>Prod_id</th>\n      <th>Ship_id</th>\n      <th>Cust_id</th>\n      <th>Sales</th>\n      <th>Discount</th>\n      <th>Order_Quantity</th>\n      <th>Profit</th>\n      <th>Shipping_Cost</th>\n      <th>Product_Base_Margin</th>\n    </tr>\n  </thead>\n  <tbody>\n    <tr>\n      <th>1593</th>\n      <td>Ord_1067</td>\n      <td>Prod_1</td>\n      <td>SHP_1474</td>\n      <td>Cust_397</td>\n      <td>7333.45</td>\n      <td>0.07</td>\n      <td>27</td>\n      <td>-207.28</td>\n      <td>35.00</td>\n      <td>0.80</td>\n    </tr>\n    <tr>\n      <th>6127</th>\n      <td>Ord_1791</td>\n      <td>Prod_1</td>\n      <td>SHP_2482</td>\n      <td>Cust_838</td>\n      <td>416.40</td>\n      <td>0.02</td>\n      <td>24</td>\n      <td>24.33</td>\n      <td>4.96</td>\n      <td>0.58</td>\n    </tr>\n    <tr>\n      <th>4794</th>\n      <td>Ord_4923</td>\n      <td>Prod_1</td>\n      <td>SHP_6867</td>\n      <td>Cust_1681</td>\n      <td>1438.33</td>\n      <td>0.08</td>\n      <td>43</td>\n      <td>163.38</td>\n      <td>8.22</td>\n      <td>0.57</td>\n    </tr>\n    <tr>\n      <th>2595</th>\n      <td>Ord_4464</td>\n      <td>Prod_1</td>\n      <td>SHP_6219</td>\n      <td>Cust_1445</td>\n      <td>279.77</td>\n      <td>0.07</td>\n      <td>8</td>\n      <td>-14.02</td>\n      <td>8.22</td>\n      <td>0.57</td>\n    </tr>\n    <tr>\n      <th>7772</th>\n      <td>Ord_3210</td>\n      <td>Prod_1</td>\n      <td>SHP_4452</td>\n      <td>Cust_1183</td>\n      <td>494.34</td>\n      <td>0.05</td>\n      <td>15</td>\n      <td>-30.19</td>\n      <td>6.72</td>\n      <td>0.75</td>\n    </tr>\n    <tr>\n      <th>...</th>\n      <td>...</td>\n      <td>...</td>\n      <td>...</td>\n      <td>...</td>\n      <td>...</td>\n      <td>...</td>\n      <td>...</td>\n      <td>...</td>\n      <td>...</td>\n      <td>...</td>\n    </tr>\n    <tr>\n      <th>4693</th>\n      <td>Ord_2970</td>\n      <td>Prod_9</td>\n      <td>SHP_5273</td>\n      <td>Cust_1326</td>\n      <td>141.90</td>\n      <td>0.02</td>\n      <td>12</td>\n      <td>1.46</td>\n      <td>5.72</td>\n      <td>0.35</td>\n    </tr>\n    <tr>\n      <th>7343</th>\n      <td>Ord_701</td>\n      <td>Prod_9</td>\n      <td>SHP_959</td>\n      <td>Cust_240</td>\n      <td>355.69</td>\n      <td>0.09</td>\n      <td>42</td>\n      <td>-149.46</td>\n      <td>8.29</td>\n      <td>0.38</td>\n    </tr>\n    <tr>\n      <th>8134</th>\n      <td>Ord_2619</td>\n      <td>Prod_9</td>\n      <td>SHP_3584</td>\n      <td>Cust_990</td>\n      <td>775.77</td>\n      <td>0.07</td>\n      <td>20</td>\n      <td>179.37</td>\n      <td>9.83</td>\n      <td>0.40</td>\n    </tr>\n    <tr>\n      <th>1669</th>\n      <td>Ord_5073</td>\n      <td>Prod_9</td>\n      <td>SHP_7083</td>\n      <td>Cust_1720</td>\n      <td>741.57</td>\n      <td>0.10</td>\n      <td>49</td>\n      <td>352.41</td>\n      <td>1.39</td>\n      <td>0.38</td>\n    </tr>\n    <tr>\n      <th>8177</th>\n      <td>Ord_5166</td>\n      <td>Prod_9</td>\n      <td>SHP_7220</td>\n      <td>Cust_1755</td>\n      <td>347.84</td>\n      <td>0.00</td>\n      <td>37</td>\n      <td>-99.25</td>\n      <td>8.29</td>\n      <td>0.38</td>\n    </tr>\n  </tbody>\n</table>\n<p>8399 rows × 10 columns</p>\n</div>"
     },
     "metadata": {},
     "execution_count": 10
    }
   ],
   "source": [
    "df2.sort_values(\"Prod_id\")"
   ]
  },
  {
   "cell_type": "code",
   "execution_count": 9,
   "metadata": {},
   "outputs": [
    {
     "output_type": "execute_result",
     "data": {
      "text/plain": [
       "         Order_Quantity\n",
       "Prod_id                \n",
       "Prod_1            13804\n",
       "Prod_10            4891\n",
       "Prod_11            9195\n",
       "Prod_12            7301\n",
       "Prod_13           16980\n",
       "Prod_14            2128\n",
       "Prod_15            9590\n",
       "Prod_16            3931\n",
       "Prod_17            7856\n",
       "Prod_2            10901\n",
       "Prod_3            22992\n",
       "Prod_4            22969\n",
       "Prod_5            20648\n",
       "Prod_6            30871\n",
       "Prod_7             4920\n",
       "Prod_8            19222\n",
       "Prod_9             6578"
      ],
      "text/html": "<div>\n<style scoped>\n    .dataframe tbody tr th:only-of-type {\n        vertical-align: middle;\n    }\n\n    .dataframe tbody tr th {\n        vertical-align: top;\n    }\n\n    .dataframe thead th {\n        text-align: right;\n    }\n</style>\n<table border=\"1\" class=\"dataframe\">\n  <thead>\n    <tr style=\"text-align: right;\">\n      <th></th>\n      <th>Order_Quantity</th>\n    </tr>\n    <tr>\n      <th>Prod_id</th>\n      <th></th>\n    </tr>\n  </thead>\n  <tbody>\n    <tr>\n      <th>Prod_1</th>\n      <td>13804</td>\n    </tr>\n    <tr>\n      <th>Prod_10</th>\n      <td>4891</td>\n    </tr>\n    <tr>\n      <th>Prod_11</th>\n      <td>9195</td>\n    </tr>\n    <tr>\n      <th>Prod_12</th>\n      <td>7301</td>\n    </tr>\n    <tr>\n      <th>Prod_13</th>\n      <td>16980</td>\n    </tr>\n    <tr>\n      <th>Prod_14</th>\n      <td>2128</td>\n    </tr>\n    <tr>\n      <th>Prod_15</th>\n      <td>9590</td>\n    </tr>\n    <tr>\n      <th>Prod_16</th>\n      <td>3931</td>\n    </tr>\n    <tr>\n      <th>Prod_17</th>\n      <td>7856</td>\n    </tr>\n    <tr>\n      <th>Prod_2</th>\n      <td>10901</td>\n    </tr>\n    <tr>\n      <th>Prod_3</th>\n      <td>22992</td>\n    </tr>\n    <tr>\n      <th>Prod_4</th>\n      <td>22969</td>\n    </tr>\n    <tr>\n      <th>Prod_5</th>\n      <td>20648</td>\n    </tr>\n    <tr>\n      <th>Prod_6</th>\n      <td>30871</td>\n    </tr>\n    <tr>\n      <th>Prod_7</th>\n      <td>4920</td>\n    </tr>\n    <tr>\n      <th>Prod_8</th>\n      <td>19222</td>\n    </tr>\n    <tr>\n      <th>Prod_9</th>\n      <td>6578</td>\n    </tr>\n  </tbody>\n</table>\n</div>"
     },
     "metadata": {},
     "execution_count": 9
    }
   ],
   "source": [
    "df2.groupby('Prod_id')[[\"Prod_id\",\"Order_Quantity\"]].sum('Order_Quantity')"
   ]
  },
  {
   "cell_type": "code",
   "execution_count": 8,
   "metadata": {},
   "outputs": [
    {
     "output_type": "execute_result",
     "data": {
      "text/plain": [
       "            Profit\n",
       "Prod_id           \n",
       "Prod_1     6664.15\n",
       "Prod_10  -33582.13\n",
       "Prod_11  -99062.50\n",
       "Prod_12   13677.17\n",
       "Prod_13    7564.78\n",
       "Prod_14  167361.49\n",
       "Prod_15  149649.73\n",
       "Prod_16   -7799.25\n",
       "Prod_17  307712.93\n",
       "Prod_2    97158.06\n",
       "Prod_3   307413.39\n",
       "Prod_4   316951.62\n",
       "Prod_5   100427.93\n",
       "Prod_6    45263.20\n",
       "Prod_7     -102.67\n",
       "Prod_8    94287.48\n",
       "Prod_9    48182.60"
      ],
      "text/html": "<div>\n<style scoped>\n    .dataframe tbody tr th:only-of-type {\n        vertical-align: middle;\n    }\n\n    .dataframe tbody tr th {\n        vertical-align: top;\n    }\n\n    .dataframe thead th {\n        text-align: right;\n    }\n</style>\n<table border=\"1\" class=\"dataframe\">\n  <thead>\n    <tr style=\"text-align: right;\">\n      <th></th>\n      <th>Profit</th>\n    </tr>\n    <tr>\n      <th>Prod_id</th>\n      <th></th>\n    </tr>\n  </thead>\n  <tbody>\n    <tr>\n      <th>Prod_1</th>\n      <td>6664.15</td>\n    </tr>\n    <tr>\n      <th>Prod_10</th>\n      <td>-33582.13</td>\n    </tr>\n    <tr>\n      <th>Prod_11</th>\n      <td>-99062.50</td>\n    </tr>\n    <tr>\n      <th>Prod_12</th>\n      <td>13677.17</td>\n    </tr>\n    <tr>\n      <th>Prod_13</th>\n      <td>7564.78</td>\n    </tr>\n    <tr>\n      <th>Prod_14</th>\n      <td>167361.49</td>\n    </tr>\n    <tr>\n      <th>Prod_15</th>\n      <td>149649.73</td>\n    </tr>\n    <tr>\n      <th>Prod_16</th>\n      <td>-7799.25</td>\n    </tr>\n    <tr>\n      <th>Prod_17</th>\n      <td>307712.93</td>\n    </tr>\n    <tr>\n      <th>Prod_2</th>\n      <td>97158.06</td>\n    </tr>\n    <tr>\n      <th>Prod_3</th>\n      <td>307413.39</td>\n    </tr>\n    <tr>\n      <th>Prod_4</th>\n      <td>316951.62</td>\n    </tr>\n    <tr>\n      <th>Prod_5</th>\n      <td>100427.93</td>\n    </tr>\n    <tr>\n      <th>Prod_6</th>\n      <td>45263.20</td>\n    </tr>\n    <tr>\n      <th>Prod_7</th>\n      <td>-102.67</td>\n    </tr>\n    <tr>\n      <th>Prod_8</th>\n      <td>94287.48</td>\n    </tr>\n    <tr>\n      <th>Prod_9</th>\n      <td>48182.60</td>\n    </tr>\n  </tbody>\n</table>\n</div>"
     },
     "metadata": {},
     "execution_count": 8
    }
   ],
   "source": [
    "df2.groupby('Prod_id')[[\"Prod_id\",\"Profit\"]].sum('Profit')"
   ]
  },
  {
   "cell_type": "code",
   "execution_count": 8,
   "metadata": {},
   "outputs": [
    {
     "output_type": "execute_result",
     "data": {
      "text/plain": [
       "dtype('float64')"
      ]
     },
     "metadata": {},
     "execution_count": 8
    }
   ],
   "source": [
    "df2.Sales.dtypes"
   ]
  },
  {
   "cell_type": "code",
   "execution_count": 7,
   "metadata": {},
   "outputs": [
    {
     "output_type": "execute_result",
     "data": {
      "text/plain": [
       "dtype('int64')"
      ]
     },
     "metadata": {},
     "execution_count": 7
    }
   ],
   "source": [
    "df2.Order_Quantity.dtypes"
   ]
  },
  {
   "cell_type": "code",
   "execution_count": 9,
   "metadata": {},
   "outputs": [],
   "source": [
    "df2.to_csv(\"market_fact2.csv\", index=False)"
   ]
  },
  {
   "cell_type": "code",
   "execution_count": 15,
   "metadata": {},
   "outputs": [
    {
     "output_type": "execute_result",
     "data": {
      "text/plain": [
       "     Ord_id Prod_id Ship_id Cust_id   Sales  Discount  Order_Quantity  Profit  \\\n",
       "5858  Ord_1  Prod_1   SHP_1  Cust_1  261.54      0.04               6 -213.25   \n",
       "\n",
       "      Shipping_Cost  Product_Base_Margin  \n",
       "5858           35.0                  0.8  "
      ],
      "text/html": "<div>\n<style scoped>\n    .dataframe tbody tr th:only-of-type {\n        vertical-align: middle;\n    }\n\n    .dataframe tbody tr th {\n        vertical-align: top;\n    }\n\n    .dataframe thead th {\n        text-align: right;\n    }\n</style>\n<table border=\"1\" class=\"dataframe\">\n  <thead>\n    <tr style=\"text-align: right;\">\n      <th></th>\n      <th>Ord_id</th>\n      <th>Prod_id</th>\n      <th>Ship_id</th>\n      <th>Cust_id</th>\n      <th>Sales</th>\n      <th>Discount</th>\n      <th>Order_Quantity</th>\n      <th>Profit</th>\n      <th>Shipping_Cost</th>\n      <th>Product_Base_Margin</th>\n    </tr>\n  </thead>\n  <tbody>\n    <tr>\n      <th>5858</th>\n      <td>Ord_1</td>\n      <td>Prod_1</td>\n      <td>SHP_1</td>\n      <td>Cust_1</td>\n      <td>261.54</td>\n      <td>0.04</td>\n      <td>6</td>\n      <td>-213.25</td>\n      <td>35.0</td>\n      <td>0.8</td>\n    </tr>\n  </tbody>\n</table>\n</div>"
     },
     "metadata": {},
     "execution_count": 15
    }
   ],
   "source": [
    "df2[df2[\"Cust_id\"] == \"Cust_1\"]"
   ]
  },
  {
   "cell_type": "code",
   "execution_count": 29,
   "metadata": {},
   "outputs": [
    {
     "output_type": "stream",
     "name": "stdout",
     "text": [
      "<class 'pandas.core.frame.DataFrame'>\nRangeIndex: 8399 entries, 0 to 8398\nData columns (total 10 columns):\n #   Column               Non-Null Count  Dtype  \n---  ------               --------------  -----  \n 0   Ord_id               8399 non-null   object \n 1   Prod_id              8399 non-null   object \n 2   Ship_id              8399 non-null   object \n 3   Cust_id              8399 non-null   object \n 4   Sales                8399 non-null   float64\n 5   Discount             8399 non-null   float64\n 6   Order_Quantity       8399 non-null   int64  \n 7   Profit               8399 non-null   float64\n 8   Shipping_Cost        8399 non-null   float64\n 9   Product_Base_Margin  8336 non-null   float64\ndtypes: float64(5), int64(1), object(4)\nmemory usage: 656.3+ KB\n"
     ]
    }
   ],
   "source": [
    "df2.info()"
   ]
  },
  {
   "cell_type": "code",
   "execution_count": 10,
   "metadata": {},
   "outputs": [
    {
     "output_type": "execute_result",
     "data": {
      "text/plain": [
       "   Order_Date Order_Priority Ord_id\n",
       "0  13-10-2010            LOW  Ord_1\n",
       "1  01-10-2012           HIGH  Ord_2\n",
       "2  10-07-2011           HIGH  Ord_3\n",
       "3  28-08-2010  NOT SPECIFIED  Ord_4\n",
       "4  17-06-2011           HIGH  Ord_5"
      ],
      "text/html": "<div>\n<style scoped>\n    .dataframe tbody tr th:only-of-type {\n        vertical-align: middle;\n    }\n\n    .dataframe tbody tr th {\n        vertical-align: top;\n    }\n\n    .dataframe thead th {\n        text-align: right;\n    }\n</style>\n<table border=\"1\" class=\"dataframe\">\n  <thead>\n    <tr style=\"text-align: right;\">\n      <th></th>\n      <th>Order_Date</th>\n      <th>Order_Priority</th>\n      <th>Ord_id</th>\n    </tr>\n  </thead>\n  <tbody>\n    <tr>\n      <th>0</th>\n      <td>13-10-2010</td>\n      <td>LOW</td>\n      <td>Ord_1</td>\n    </tr>\n    <tr>\n      <th>1</th>\n      <td>01-10-2012</td>\n      <td>HIGH</td>\n      <td>Ord_2</td>\n    </tr>\n    <tr>\n      <th>2</th>\n      <td>10-07-2011</td>\n      <td>HIGH</td>\n      <td>Ord_3</td>\n    </tr>\n    <tr>\n      <th>3</th>\n      <td>28-08-2010</td>\n      <td>NOT SPECIFIED</td>\n      <td>Ord_4</td>\n    </tr>\n    <tr>\n      <th>4</th>\n      <td>17-06-2011</td>\n      <td>HIGH</td>\n      <td>Ord_5</td>\n    </tr>\n  </tbody>\n</table>\n</div>"
     },
     "metadata": {},
     "execution_count": 10
    }
   ],
   "source": [
    "df3 = pd.read_csv(\"orders_dimen.csv\")\n",
    "df3.head()"
   ]
  },
  {
   "cell_type": "code",
   "execution_count": 16,
   "metadata": {},
   "outputs": [
    {
     "output_type": "execute_result",
     "data": {
      "text/plain": [
       "     Order_Date Order_Priority   Ord_id\n",
       "292  09-12-2009  NOT SPECIFIED  Ord_293"
      ],
      "text/html": "<div>\n<style scoped>\n    .dataframe tbody tr th:only-of-type {\n        vertical-align: middle;\n    }\n\n    .dataframe tbody tr th {\n        vertical-align: top;\n    }\n\n    .dataframe thead th {\n        text-align: right;\n    }\n</style>\n<table border=\"1\" class=\"dataframe\">\n  <thead>\n    <tr style=\"text-align: right;\">\n      <th></th>\n      <th>Order_Date</th>\n      <th>Order_Priority</th>\n      <th>Ord_id</th>\n    </tr>\n  </thead>\n  <tbody>\n    <tr>\n      <th>292</th>\n      <td>09-12-2009</td>\n      <td>NOT SPECIFIED</td>\n      <td>Ord_293</td>\n    </tr>\n  </tbody>\n</table>\n</div>"
     },
     "metadata": {},
     "execution_count": 16
    }
   ],
   "source": [
    "df3[df3.Ord_id == \"Ord_293\"]"
   ]
  },
  {
   "cell_type": "code",
   "execution_count": 19,
   "metadata": {},
   "outputs": [
    {
     "output_type": "execute_result",
     "data": {
      "text/plain": [
       "Order_Date        03-07-2012\n",
       "Order_Priority      CRITICAL\n",
       "Ord_id               Ord_294\n",
       "Name: 293, dtype: object"
      ]
     },
     "metadata": {},
     "execution_count": 19
    }
   ],
   "source": [
    "df3.iloc[293]"
   ]
  },
  {
   "cell_type": "code",
   "execution_count": 20,
   "metadata": {},
   "outputs": [
    {
     "output_type": "execute_result",
     "data": {
      "text/plain": [
       "Order_Date           10-12-2009\n",
       "Order_Priority    NOT SPECIFIED\n",
       "Ord_id                  Ord_484\n",
       "Name: 483, dtype: object"
      ]
     },
     "metadata": {},
     "execution_count": 20
    }
   ],
   "source": [
    "df3.iloc[483]"
   ]
  },
  {
   "cell_type": "code",
   "execution_count": 17,
   "metadata": {},
   "outputs": [
    {
     "output_type": "stream",
     "name": "stdout",
     "text": [
      "<class 'pandas.core.frame.DataFrame'>\nRangeIndex: 5506 entries, 0 to 5505\nData columns (total 3 columns):\n #   Column          Non-Null Count  Dtype \n---  ------          --------------  ----- \n 0   Order_Date      5506 non-null   object\n 1   Order_Priority  5506 non-null   object\n 2   Ord_id          5506 non-null   object\ndtypes: object(3)\nmemory usage: 129.2+ KB\n"
     ]
    }
   ],
   "source": [
    "df3.info()"
   ]
  },
  {
   "cell_type": "code",
   "execution_count": 5,
   "metadata": {},
   "outputs": [
    {
     "output_type": "execute_result",
     "data": {
      "text/plain": [
       "   Order_ID       Ship_Mode   Ship_Date Ship_id\n",
       "0         3     REGULAR AIR  20-10-2010   SHP_1\n",
       "1       293  DELIVERY TRUCK  02-10-2012   SHP_2\n",
       "2       293     REGULAR AIR  03-10-2012   SHP_3\n",
       "3       483     REGULAR AIR  12-07-2011   SHP_4\n",
       "4       515     REGULAR AIR  30-08-2010   SHP_5"
      ],
      "text/html": "<div>\n<style scoped>\n    .dataframe tbody tr th:only-of-type {\n        vertical-align: middle;\n    }\n\n    .dataframe tbody tr th {\n        vertical-align: top;\n    }\n\n    .dataframe thead th {\n        text-align: right;\n    }\n</style>\n<table border=\"1\" class=\"dataframe\">\n  <thead>\n    <tr style=\"text-align: right;\">\n      <th></th>\n      <th>Order_ID</th>\n      <th>Ship_Mode</th>\n      <th>Ship_Date</th>\n      <th>Ship_id</th>\n    </tr>\n  </thead>\n  <tbody>\n    <tr>\n      <th>0</th>\n      <td>3</td>\n      <td>REGULAR AIR</td>\n      <td>20-10-2010</td>\n      <td>SHP_1</td>\n    </tr>\n    <tr>\n      <th>1</th>\n      <td>293</td>\n      <td>DELIVERY TRUCK</td>\n      <td>02-10-2012</td>\n      <td>SHP_2</td>\n    </tr>\n    <tr>\n      <th>2</th>\n      <td>293</td>\n      <td>REGULAR AIR</td>\n      <td>03-10-2012</td>\n      <td>SHP_3</td>\n    </tr>\n    <tr>\n      <th>3</th>\n      <td>483</td>\n      <td>REGULAR AIR</td>\n      <td>12-07-2011</td>\n      <td>SHP_4</td>\n    </tr>\n    <tr>\n      <th>4</th>\n      <td>515</td>\n      <td>REGULAR AIR</td>\n      <td>30-08-2010</td>\n      <td>SHP_5</td>\n    </tr>\n  </tbody>\n</table>\n</div>"
     },
     "metadata": {},
     "execution_count": 5
    }
   ],
   "source": [
    "df4 = pd.read_csv(\"shipping_dimen.csv\")\n",
    "df4.head()"
   ]
  },
  {
   "cell_type": "code",
   "execution_count": 23,
   "metadata": {},
   "outputs": [],
   "source": [
    "df4.drop(\"Order_ID\", axis=1, inplace=True) # We dropped Order_ID because it doesn't relate any other "
   ]
  },
  {
   "cell_type": "code",
   "execution_count": 25,
   "metadata": {},
   "outputs": [
    {
     "output_type": "execute_result",
     "data": {
      "text/plain": [
       "        Ship_Mode   Ship_Date Ship_id\n",
       "0     REGULAR AIR  20-10-2010   SHP_1\n",
       "1  DELIVERY TRUCK  02-10-2012   SHP_2\n",
       "2     REGULAR AIR  03-10-2012   SHP_3\n",
       "3     REGULAR AIR  12-07-2011   SHP_4\n",
       "4     REGULAR AIR  30-08-2010   SHP_5"
      ],
      "text/html": "<div>\n<style scoped>\n    .dataframe tbody tr th:only-of-type {\n        vertical-align: middle;\n    }\n\n    .dataframe tbody tr th {\n        vertical-align: top;\n    }\n\n    .dataframe thead th {\n        text-align: right;\n    }\n</style>\n<table border=\"1\" class=\"dataframe\">\n  <thead>\n    <tr style=\"text-align: right;\">\n      <th></th>\n      <th>Ship_Mode</th>\n      <th>Ship_Date</th>\n      <th>Ship_id</th>\n    </tr>\n  </thead>\n  <tbody>\n    <tr>\n      <th>0</th>\n      <td>REGULAR AIR</td>\n      <td>20-10-2010</td>\n      <td>SHP_1</td>\n    </tr>\n    <tr>\n      <th>1</th>\n      <td>DELIVERY TRUCK</td>\n      <td>02-10-2012</td>\n      <td>SHP_2</td>\n    </tr>\n    <tr>\n      <th>2</th>\n      <td>REGULAR AIR</td>\n      <td>03-10-2012</td>\n      <td>SHP_3</td>\n    </tr>\n    <tr>\n      <th>3</th>\n      <td>REGULAR AIR</td>\n      <td>12-07-2011</td>\n      <td>SHP_4</td>\n    </tr>\n    <tr>\n      <th>4</th>\n      <td>REGULAR AIR</td>\n      <td>30-08-2010</td>\n      <td>SHP_5</td>\n    </tr>\n  </tbody>\n</table>\n</div>"
     },
     "metadata": {},
     "execution_count": 25
    }
   ],
   "source": [
    "df4.head()"
   ]
  },
  {
   "cell_type": "code",
   "execution_count": 27,
   "metadata": {},
   "outputs": [],
   "source": [
    "df4.to_csv(\"shipping_dimen2.csv\",index=False)"
   ]
  },
  {
   "cell_type": "code",
   "execution_count": 6,
   "metadata": {},
   "outputs": [
    {
     "output_type": "execute_result",
     "data": {
      "text/plain": [
       "  Product_Category            Product_Sub_Category Prod_id\n",
       "0  OFFICE SUPPLIES          STORAGE & ORGANIZATION  Prod_1\n",
       "1  OFFICE SUPPLIES                      APPLIANCES  Prod_2\n",
       "2  OFFICE SUPPLIES  BINDERS AND BINDER ACCESSORIES  Prod_3\n",
       "3       TECHNOLOGY    TELEPHONES AND COMMUNICATION  Prod_4\n",
       "4        FURNITURE              OFFICE FURNISHINGS  Prod_5"
      ],
      "text/html": "<div>\n<style scoped>\n    .dataframe tbody tr th:only-of-type {\n        vertical-align: middle;\n    }\n\n    .dataframe tbody tr th {\n        vertical-align: top;\n    }\n\n    .dataframe thead th {\n        text-align: right;\n    }\n</style>\n<table border=\"1\" class=\"dataframe\">\n  <thead>\n    <tr style=\"text-align: right;\">\n      <th></th>\n      <th>Product_Category</th>\n      <th>Product_Sub_Category</th>\n      <th>Prod_id</th>\n    </tr>\n  </thead>\n  <tbody>\n    <tr>\n      <th>0</th>\n      <td>OFFICE SUPPLIES</td>\n      <td>STORAGE &amp; ORGANIZATION</td>\n      <td>Prod_1</td>\n    </tr>\n    <tr>\n      <th>1</th>\n      <td>OFFICE SUPPLIES</td>\n      <td>APPLIANCES</td>\n      <td>Prod_2</td>\n    </tr>\n    <tr>\n      <th>2</th>\n      <td>OFFICE SUPPLIES</td>\n      <td>BINDERS AND BINDER ACCESSORIES</td>\n      <td>Prod_3</td>\n    </tr>\n    <tr>\n      <th>3</th>\n      <td>TECHNOLOGY</td>\n      <td>TELEPHONES AND COMMUNICATION</td>\n      <td>Prod_4</td>\n    </tr>\n    <tr>\n      <th>4</th>\n      <td>FURNITURE</td>\n      <td>OFFICE FURNISHINGS</td>\n      <td>Prod_5</td>\n    </tr>\n  </tbody>\n</table>\n</div>"
     },
     "metadata": {},
     "execution_count": 6
    }
   ],
   "source": [
    "df5 = pd.read_csv(\"prod_dimen.csv\")\n",
    "df5.head()"
   ]
  },
  {
   "cell_type": "code",
   "execution_count": 28,
   "metadata": {},
   "outputs": [],
   "source": [
    "df5.to_csv(\"prod_dimen2.csv\", index=False) "
   ]
  },
  {
   "cell_type": "code",
   "execution_count": 30,
   "metadata": {},
   "outputs": [
    {
     "output_type": "execute_result",
     "data": {
      "text/plain": [
       "        Ord_id  Prod_id   Ship_id    Cust_id      Sales  Discount  \\\n",
       "0     Ord_5446  Prod_16  SHP_7609  Cust_1818   136.8100      0.01   \n",
       "1     Ord_5406  Prod_13  SHP_7549  Cust_1818    42.2700      0.01   \n",
       "2     Ord_5446   Prod_4  SHP_7610  Cust_1818  4701.6900      0.00   \n",
       "3     Ord_5456   Prod_6  SHP_7625  Cust_1818  2337.8900      0.09   \n",
       "4     Ord_5485  Prod_17  SHP_7664  Cust_1818  4233.1500      0.08   \n",
       "...        ...      ...       ...        ...        ...       ...   \n",
       "8394  Ord_5353   Prod_4  SHP_7479  Cust_1798  2841.4395      0.08   \n",
       "8395  Ord_5411   Prod_6  SHP_7555  Cust_1798   127.1600      0.10   \n",
       "8396  Ord_5388   Prod_6  SHP_7524  Cust_1798   243.0500      0.02   \n",
       "8397  Ord_5348  Prod_15  SHP_7469  Cust_1798  3872.8700      0.03   \n",
       "8398  Ord_5459   Prod_6  SHP_7628  Cust_1798   603.6900      0.00   \n",
       "\n",
       "      Order_Quantity   Profit  Shipping_Cost  Product_Base_Margin  \\\n",
       "0                 23   -30.51           3.60                 0.56   \n",
       "1                 13     4.56           0.93                 0.54   \n",
       "2                 26  1148.90           2.50                 0.59   \n",
       "3                 43   729.34          14.30                 0.37   \n",
       "4                 35  1219.87          26.30                 0.38   \n",
       "...              ...      ...            ...                  ...   \n",
       "8394              28   374.63           7.69                 0.59   \n",
       "8395              20   -74.03           6.92                 0.37   \n",
       "8396              39   -70.85           5.35                 0.40   \n",
       "8397              23   565.34          30.00                 0.62   \n",
       "8398              47   131.39           4.86                 0.38   \n",
       "\n",
       "       Customer_Name Province Region Customer_Segment  \n",
       "0      AARON BERGMAN  ALBERTA   WEST        CORPORATE  \n",
       "1      AARON BERGMAN  ALBERTA   WEST        CORPORATE  \n",
       "2      AARON BERGMAN  ALBERTA   WEST        CORPORATE  \n",
       "3      AARON BERGMAN  ALBERTA   WEST        CORPORATE  \n",
       "4      AARON BERGMAN  ALBERTA   WEST        CORPORATE  \n",
       "...              ...      ...    ...              ...  \n",
       "8394  YOSEPH CARROLL  ALBERTA   WEST         CONSUMER  \n",
       "8395  YOSEPH CARROLL  ALBERTA   WEST         CONSUMER  \n",
       "8396  YOSEPH CARROLL  ALBERTA   WEST         CONSUMER  \n",
       "8397  YOSEPH CARROLL  ALBERTA   WEST         CONSUMER  \n",
       "8398  YOSEPH CARROLL  ALBERTA   WEST         CONSUMER  \n",
       "\n",
       "[8399 rows x 14 columns]"
      ],
      "text/html": "<div>\n<style scoped>\n    .dataframe tbody tr th:only-of-type {\n        vertical-align: middle;\n    }\n\n    .dataframe tbody tr th {\n        vertical-align: top;\n    }\n\n    .dataframe thead th {\n        text-align: right;\n    }\n</style>\n<table border=\"1\" class=\"dataframe\">\n  <thead>\n    <tr style=\"text-align: right;\">\n      <th></th>\n      <th>Ord_id</th>\n      <th>Prod_id</th>\n      <th>Ship_id</th>\n      <th>Cust_id</th>\n      <th>Sales</th>\n      <th>Discount</th>\n      <th>Order_Quantity</th>\n      <th>Profit</th>\n      <th>Shipping_Cost</th>\n      <th>Product_Base_Margin</th>\n      <th>Customer_Name</th>\n      <th>Province</th>\n      <th>Region</th>\n      <th>Customer_Segment</th>\n    </tr>\n  </thead>\n  <tbody>\n    <tr>\n      <th>0</th>\n      <td>Ord_5446</td>\n      <td>Prod_16</td>\n      <td>SHP_7609</td>\n      <td>Cust_1818</td>\n      <td>136.8100</td>\n      <td>0.01</td>\n      <td>23</td>\n      <td>-30.51</td>\n      <td>3.60</td>\n      <td>0.56</td>\n      <td>AARON BERGMAN</td>\n      <td>ALBERTA</td>\n      <td>WEST</td>\n      <td>CORPORATE</td>\n    </tr>\n    <tr>\n      <th>1</th>\n      <td>Ord_5406</td>\n      <td>Prod_13</td>\n      <td>SHP_7549</td>\n      <td>Cust_1818</td>\n      <td>42.2700</td>\n      <td>0.01</td>\n      <td>13</td>\n      <td>4.56</td>\n      <td>0.93</td>\n      <td>0.54</td>\n      <td>AARON BERGMAN</td>\n      <td>ALBERTA</td>\n      <td>WEST</td>\n      <td>CORPORATE</td>\n    </tr>\n    <tr>\n      <th>2</th>\n      <td>Ord_5446</td>\n      <td>Prod_4</td>\n      <td>SHP_7610</td>\n      <td>Cust_1818</td>\n      <td>4701.6900</td>\n      <td>0.00</td>\n      <td>26</td>\n      <td>1148.90</td>\n      <td>2.50</td>\n      <td>0.59</td>\n      <td>AARON BERGMAN</td>\n      <td>ALBERTA</td>\n      <td>WEST</td>\n      <td>CORPORATE</td>\n    </tr>\n    <tr>\n      <th>3</th>\n      <td>Ord_5456</td>\n      <td>Prod_6</td>\n      <td>SHP_7625</td>\n      <td>Cust_1818</td>\n      <td>2337.8900</td>\n      <td>0.09</td>\n      <td>43</td>\n      <td>729.34</td>\n      <td>14.30</td>\n      <td>0.37</td>\n      <td>AARON BERGMAN</td>\n      <td>ALBERTA</td>\n      <td>WEST</td>\n      <td>CORPORATE</td>\n    </tr>\n    <tr>\n      <th>4</th>\n      <td>Ord_5485</td>\n      <td>Prod_17</td>\n      <td>SHP_7664</td>\n      <td>Cust_1818</td>\n      <td>4233.1500</td>\n      <td>0.08</td>\n      <td>35</td>\n      <td>1219.87</td>\n      <td>26.30</td>\n      <td>0.38</td>\n      <td>AARON BERGMAN</td>\n      <td>ALBERTA</td>\n      <td>WEST</td>\n      <td>CORPORATE</td>\n    </tr>\n    <tr>\n      <th>...</th>\n      <td>...</td>\n      <td>...</td>\n      <td>...</td>\n      <td>...</td>\n      <td>...</td>\n      <td>...</td>\n      <td>...</td>\n      <td>...</td>\n      <td>...</td>\n      <td>...</td>\n      <td>...</td>\n      <td>...</td>\n      <td>...</td>\n      <td>...</td>\n    </tr>\n    <tr>\n      <th>8394</th>\n      <td>Ord_5353</td>\n      <td>Prod_4</td>\n      <td>SHP_7479</td>\n      <td>Cust_1798</td>\n      <td>2841.4395</td>\n      <td>0.08</td>\n      <td>28</td>\n      <td>374.63</td>\n      <td>7.69</td>\n      <td>0.59</td>\n      <td>YOSEPH CARROLL</td>\n      <td>ALBERTA</td>\n      <td>WEST</td>\n      <td>CONSUMER</td>\n    </tr>\n    <tr>\n      <th>8395</th>\n      <td>Ord_5411</td>\n      <td>Prod_6</td>\n      <td>SHP_7555</td>\n      <td>Cust_1798</td>\n      <td>127.1600</td>\n      <td>0.10</td>\n      <td>20</td>\n      <td>-74.03</td>\n      <td>6.92</td>\n      <td>0.37</td>\n      <td>YOSEPH CARROLL</td>\n      <td>ALBERTA</td>\n      <td>WEST</td>\n      <td>CONSUMER</td>\n    </tr>\n    <tr>\n      <th>8396</th>\n      <td>Ord_5388</td>\n      <td>Prod_6</td>\n      <td>SHP_7524</td>\n      <td>Cust_1798</td>\n      <td>243.0500</td>\n      <td>0.02</td>\n      <td>39</td>\n      <td>-70.85</td>\n      <td>5.35</td>\n      <td>0.40</td>\n      <td>YOSEPH CARROLL</td>\n      <td>ALBERTA</td>\n      <td>WEST</td>\n      <td>CONSUMER</td>\n    </tr>\n    <tr>\n      <th>8397</th>\n      <td>Ord_5348</td>\n      <td>Prod_15</td>\n      <td>SHP_7469</td>\n      <td>Cust_1798</td>\n      <td>3872.8700</td>\n      <td>0.03</td>\n      <td>23</td>\n      <td>565.34</td>\n      <td>30.00</td>\n      <td>0.62</td>\n      <td>YOSEPH CARROLL</td>\n      <td>ALBERTA</td>\n      <td>WEST</td>\n      <td>CONSUMER</td>\n    </tr>\n    <tr>\n      <th>8398</th>\n      <td>Ord_5459</td>\n      <td>Prod_6</td>\n      <td>SHP_7628</td>\n      <td>Cust_1798</td>\n      <td>603.6900</td>\n      <td>0.00</td>\n      <td>47</td>\n      <td>131.39</td>\n      <td>4.86</td>\n      <td>0.38</td>\n      <td>YOSEPH CARROLL</td>\n      <td>ALBERTA</td>\n      <td>WEST</td>\n      <td>CONSUMER</td>\n    </tr>\n  </tbody>\n</table>\n<p>8399 rows × 14 columns</p>\n</div>"
     },
     "metadata": {},
     "execution_count": 30
    }
   ],
   "source": [
    "df6 = pd.merge(df2, df1, how='inner', on='Cust_id' )\n",
    "df6"
   ]
  },
  {
   "cell_type": "code",
   "execution_count": 31,
   "metadata": {},
   "outputs": [
    {
     "output_type": "execute_result",
     "data": {
      "text/plain": [
       "        Ord_id  Prod_id   Ship_id    Cust_id      Sales  Discount  \\\n",
       "0     Ord_5446  Prod_16  SHP_7609  Cust_1818   136.8100      0.01   \n",
       "1     Ord_5446   Prod_4  SHP_7610  Cust_1818  4701.6900      0.00   \n",
       "2     Ord_5446   Prod_6  SHP_7608  Cust_1818   164.0200      0.03   \n",
       "3     Ord_5406  Prod_13  SHP_7549  Cust_1818    42.2700      0.01   \n",
       "4     Ord_5456   Prod_6  SHP_7625  Cust_1818  2337.8900      0.09   \n",
       "...        ...      ...       ...        ...        ...       ...   \n",
       "8394  Ord_5348  Prod_15  SHP_7469  Cust_1798  3872.8700      0.03   \n",
       "8395  Ord_5353   Prod_4  SHP_7479  Cust_1798  2841.4395      0.08   \n",
       "8396  Ord_5411   Prod_6  SHP_7555  Cust_1798   127.1600      0.10   \n",
       "8397  Ord_5388   Prod_6  SHP_7524  Cust_1798   243.0500      0.02   \n",
       "8398  Ord_5459   Prod_6  SHP_7628  Cust_1798   603.6900      0.00   \n",
       "\n",
       "      Order_Quantity   Profit  Shipping_Cost  Product_Base_Margin  \\\n",
       "0                 23   -30.51           3.60                 0.56   \n",
       "1                 26  1148.90           2.50                 0.59   \n",
       "2                 23   -47.64           6.15                 0.37   \n",
       "3                 13     4.56           0.93                 0.54   \n",
       "4                 43   729.34          14.30                 0.37   \n",
       "...              ...      ...            ...                  ...   \n",
       "8394              23   565.34          30.00                 0.62   \n",
       "8395              28   374.63           7.69                 0.59   \n",
       "8396              20   -74.03           6.92                 0.37   \n",
       "8397              39   -70.85           5.35                 0.40   \n",
       "8398              47   131.39           4.86                 0.38   \n",
       "\n",
       "       Customer_Name Province Region Customer_Segment  Order_Date  \\\n",
       "0      AARON BERGMAN  ALBERTA   WEST        CORPORATE  27-07-2010   \n",
       "1      AARON BERGMAN  ALBERTA   WEST        CORPORATE  27-07-2010   \n",
       "2      AARON BERGMAN  ALBERTA   WEST        CORPORATE  27-07-2010   \n",
       "3      AARON BERGMAN  ALBERTA   WEST        CORPORATE  07-07-2009   \n",
       "4      AARON BERGMAN  ALBERTA   WEST        CORPORATE  09-11-2010   \n",
       "...              ...      ...    ...              ...         ...   \n",
       "8394  YOSEPH CARROLL  ALBERTA   WEST         CONSUMER  21-08-2011   \n",
       "8395  YOSEPH CARROLL  ALBERTA   WEST         CONSUMER  29-04-2009   \n",
       "8396  YOSEPH CARROLL  ALBERTA   WEST         CONSUMER  17-09-2010   \n",
       "8397  YOSEPH CARROLL  ALBERTA   WEST         CONSUMER  18-10-2012   \n",
       "8398  YOSEPH CARROLL  ALBERTA   WEST         CONSUMER  10-03-2011   \n",
       "\n",
       "     Order_Priority  \n",
       "0     NOT SPECIFIED  \n",
       "1     NOT SPECIFIED  \n",
       "2     NOT SPECIFIED  \n",
       "3              HIGH  \n",
       "4            MEDIUM  \n",
       "...             ...  \n",
       "8394           HIGH  \n",
       "8395         MEDIUM  \n",
       "8396            LOW  \n",
       "8397       CRITICAL  \n",
       "8398         MEDIUM  \n",
       "\n",
       "[8399 rows x 16 columns]"
      ],
      "text/html": "<div>\n<style scoped>\n    .dataframe tbody tr th:only-of-type {\n        vertical-align: middle;\n    }\n\n    .dataframe tbody tr th {\n        vertical-align: top;\n    }\n\n    .dataframe thead th {\n        text-align: right;\n    }\n</style>\n<table border=\"1\" class=\"dataframe\">\n  <thead>\n    <tr style=\"text-align: right;\">\n      <th></th>\n      <th>Ord_id</th>\n      <th>Prod_id</th>\n      <th>Ship_id</th>\n      <th>Cust_id</th>\n      <th>Sales</th>\n      <th>Discount</th>\n      <th>Order_Quantity</th>\n      <th>Profit</th>\n      <th>Shipping_Cost</th>\n      <th>Product_Base_Margin</th>\n      <th>Customer_Name</th>\n      <th>Province</th>\n      <th>Region</th>\n      <th>Customer_Segment</th>\n      <th>Order_Date</th>\n      <th>Order_Priority</th>\n    </tr>\n  </thead>\n  <tbody>\n    <tr>\n      <th>0</th>\n      <td>Ord_5446</td>\n      <td>Prod_16</td>\n      <td>SHP_7609</td>\n      <td>Cust_1818</td>\n      <td>136.8100</td>\n      <td>0.01</td>\n      <td>23</td>\n      <td>-30.51</td>\n      <td>3.60</td>\n      <td>0.56</td>\n      <td>AARON BERGMAN</td>\n      <td>ALBERTA</td>\n      <td>WEST</td>\n      <td>CORPORATE</td>\n      <td>27-07-2010</td>\n      <td>NOT SPECIFIED</td>\n    </tr>\n    <tr>\n      <th>1</th>\n      <td>Ord_5446</td>\n      <td>Prod_4</td>\n      <td>SHP_7610</td>\n      <td>Cust_1818</td>\n      <td>4701.6900</td>\n      <td>0.00</td>\n      <td>26</td>\n      <td>1148.90</td>\n      <td>2.50</td>\n      <td>0.59</td>\n      <td>AARON BERGMAN</td>\n      <td>ALBERTA</td>\n      <td>WEST</td>\n      <td>CORPORATE</td>\n      <td>27-07-2010</td>\n      <td>NOT SPECIFIED</td>\n    </tr>\n    <tr>\n      <th>2</th>\n      <td>Ord_5446</td>\n      <td>Prod_6</td>\n      <td>SHP_7608</td>\n      <td>Cust_1818</td>\n      <td>164.0200</td>\n      <td>0.03</td>\n      <td>23</td>\n      <td>-47.64</td>\n      <td>6.15</td>\n      <td>0.37</td>\n      <td>AARON BERGMAN</td>\n      <td>ALBERTA</td>\n      <td>WEST</td>\n      <td>CORPORATE</td>\n      <td>27-07-2010</td>\n      <td>NOT SPECIFIED</td>\n    </tr>\n    <tr>\n      <th>3</th>\n      <td>Ord_5406</td>\n      <td>Prod_13</td>\n      <td>SHP_7549</td>\n      <td>Cust_1818</td>\n      <td>42.2700</td>\n      <td>0.01</td>\n      <td>13</td>\n      <td>4.56</td>\n      <td>0.93</td>\n      <td>0.54</td>\n      <td>AARON BERGMAN</td>\n      <td>ALBERTA</td>\n      <td>WEST</td>\n      <td>CORPORATE</td>\n      <td>07-07-2009</td>\n      <td>HIGH</td>\n    </tr>\n    <tr>\n      <th>4</th>\n      <td>Ord_5456</td>\n      <td>Prod_6</td>\n      <td>SHP_7625</td>\n      <td>Cust_1818</td>\n      <td>2337.8900</td>\n      <td>0.09</td>\n      <td>43</td>\n      <td>729.34</td>\n      <td>14.30</td>\n      <td>0.37</td>\n      <td>AARON BERGMAN</td>\n      <td>ALBERTA</td>\n      <td>WEST</td>\n      <td>CORPORATE</td>\n      <td>09-11-2010</td>\n      <td>MEDIUM</td>\n    </tr>\n    <tr>\n      <th>...</th>\n      <td>...</td>\n      <td>...</td>\n      <td>...</td>\n      <td>...</td>\n      <td>...</td>\n      <td>...</td>\n      <td>...</td>\n      <td>...</td>\n      <td>...</td>\n      <td>...</td>\n      <td>...</td>\n      <td>...</td>\n      <td>...</td>\n      <td>...</td>\n      <td>...</td>\n      <td>...</td>\n    </tr>\n    <tr>\n      <th>8394</th>\n      <td>Ord_5348</td>\n      <td>Prod_15</td>\n      <td>SHP_7469</td>\n      <td>Cust_1798</td>\n      <td>3872.8700</td>\n      <td>0.03</td>\n      <td>23</td>\n      <td>565.34</td>\n      <td>30.00</td>\n      <td>0.62</td>\n      <td>YOSEPH CARROLL</td>\n      <td>ALBERTA</td>\n      <td>WEST</td>\n      <td>CONSUMER</td>\n      <td>21-08-2011</td>\n      <td>HIGH</td>\n    </tr>\n    <tr>\n      <th>8395</th>\n      <td>Ord_5353</td>\n      <td>Prod_4</td>\n      <td>SHP_7479</td>\n      <td>Cust_1798</td>\n      <td>2841.4395</td>\n      <td>0.08</td>\n      <td>28</td>\n      <td>374.63</td>\n      <td>7.69</td>\n      <td>0.59</td>\n      <td>YOSEPH CARROLL</td>\n      <td>ALBERTA</td>\n      <td>WEST</td>\n      <td>CONSUMER</td>\n      <td>29-04-2009</td>\n      <td>MEDIUM</td>\n    </tr>\n    <tr>\n      <th>8396</th>\n      <td>Ord_5411</td>\n      <td>Prod_6</td>\n      <td>SHP_7555</td>\n      <td>Cust_1798</td>\n      <td>127.1600</td>\n      <td>0.10</td>\n      <td>20</td>\n      <td>-74.03</td>\n      <td>6.92</td>\n      <td>0.37</td>\n      <td>YOSEPH CARROLL</td>\n      <td>ALBERTA</td>\n      <td>WEST</td>\n      <td>CONSUMER</td>\n      <td>17-09-2010</td>\n      <td>LOW</td>\n    </tr>\n    <tr>\n      <th>8397</th>\n      <td>Ord_5388</td>\n      <td>Prod_6</td>\n      <td>SHP_7524</td>\n      <td>Cust_1798</td>\n      <td>243.0500</td>\n      <td>0.02</td>\n      <td>39</td>\n      <td>-70.85</td>\n      <td>5.35</td>\n      <td>0.40</td>\n      <td>YOSEPH CARROLL</td>\n      <td>ALBERTA</td>\n      <td>WEST</td>\n      <td>CONSUMER</td>\n      <td>18-10-2012</td>\n      <td>CRITICAL</td>\n    </tr>\n    <tr>\n      <th>8398</th>\n      <td>Ord_5459</td>\n      <td>Prod_6</td>\n      <td>SHP_7628</td>\n      <td>Cust_1798</td>\n      <td>603.6900</td>\n      <td>0.00</td>\n      <td>47</td>\n      <td>131.39</td>\n      <td>4.86</td>\n      <td>0.38</td>\n      <td>YOSEPH CARROLL</td>\n      <td>ALBERTA</td>\n      <td>WEST</td>\n      <td>CONSUMER</td>\n      <td>10-03-2011</td>\n      <td>MEDIUM</td>\n    </tr>\n  </tbody>\n</table>\n<p>8399 rows × 16 columns</p>\n</div>"
     },
     "metadata": {},
     "execution_count": 31
    }
   ],
   "source": [
    "df7 = pd.merge(df6, df3, how='inner', on='Ord_id')\n",
    "df7"
   ]
  },
  {
   "cell_type": "code",
   "execution_count": 32,
   "metadata": {},
   "outputs": [
    {
     "output_type": "execute_result",
     "data": {
      "text/plain": [
       "        Ord_id  Prod_id   Ship_id    Cust_id      Sales  Discount  \\\n",
       "0     Ord_5446  Prod_16  SHP_7609  Cust_1818   136.8100      0.01   \n",
       "1     Ord_5446   Prod_4  SHP_7610  Cust_1818  4701.6900      0.00   \n",
       "2     Ord_5446   Prod_6  SHP_7608  Cust_1818   164.0200      0.03   \n",
       "3     Ord_5406  Prod_13  SHP_7549  Cust_1818    42.2700      0.01   \n",
       "4     Ord_5456   Prod_6  SHP_7625  Cust_1818  2337.8900      0.09   \n",
       "...        ...      ...       ...        ...        ...       ...   \n",
       "8394  Ord_5348  Prod_15  SHP_7469  Cust_1798  3872.8700      0.03   \n",
       "8395  Ord_5353   Prod_4  SHP_7479  Cust_1798  2841.4395      0.08   \n",
       "8396  Ord_5411   Prod_6  SHP_7555  Cust_1798   127.1600      0.10   \n",
       "8397  Ord_5388   Prod_6  SHP_7524  Cust_1798   243.0500      0.02   \n",
       "8398  Ord_5459   Prod_6  SHP_7628  Cust_1798   603.6900      0.00   \n",
       "\n",
       "      Order_Quantity   Profit  Shipping_Cost  Product_Base_Margin  \\\n",
       "0                 23   -30.51           3.60                 0.56   \n",
       "1                 26  1148.90           2.50                 0.59   \n",
       "2                 23   -47.64           6.15                 0.37   \n",
       "3                 13     4.56           0.93                 0.54   \n",
       "4                 43   729.34          14.30                 0.37   \n",
       "...              ...      ...            ...                  ...   \n",
       "8394              23   565.34          30.00                 0.62   \n",
       "8395              28   374.63           7.69                 0.59   \n",
       "8396              20   -74.03           6.92                 0.37   \n",
       "8397              39   -70.85           5.35                 0.40   \n",
       "8398              47   131.39           4.86                 0.38   \n",
       "\n",
       "       Customer_Name Province Region Customer_Segment  Order_Date  \\\n",
       "0      AARON BERGMAN  ALBERTA   WEST        CORPORATE  27-07-2010   \n",
       "1      AARON BERGMAN  ALBERTA   WEST        CORPORATE  27-07-2010   \n",
       "2      AARON BERGMAN  ALBERTA   WEST        CORPORATE  27-07-2010   \n",
       "3      AARON BERGMAN  ALBERTA   WEST        CORPORATE  07-07-2009   \n",
       "4      AARON BERGMAN  ALBERTA   WEST        CORPORATE  09-11-2010   \n",
       "...              ...      ...    ...              ...         ...   \n",
       "8394  YOSEPH CARROLL  ALBERTA   WEST         CONSUMER  21-08-2011   \n",
       "8395  YOSEPH CARROLL  ALBERTA   WEST         CONSUMER  29-04-2009   \n",
       "8396  YOSEPH CARROLL  ALBERTA   WEST         CONSUMER  17-09-2010   \n",
       "8397  YOSEPH CARROLL  ALBERTA   WEST         CONSUMER  18-10-2012   \n",
       "8398  YOSEPH CARROLL  ALBERTA   WEST         CONSUMER  10-03-2011   \n",
       "\n",
       "     Order_Priority       Ship_Mode   Ship_Date  \n",
       "0     NOT SPECIFIED     REGULAR AIR  28-07-2010  \n",
       "1     NOT SPECIFIED     EXPRESS AIR  27-07-2010  \n",
       "2     NOT SPECIFIED     EXPRESS AIR  28-07-2010  \n",
       "3              HIGH     EXPRESS AIR  08-07-2009  \n",
       "4            MEDIUM     EXPRESS AIR  11-11-2010  \n",
       "...             ...             ...         ...  \n",
       "8394           HIGH  DELIVERY TRUCK  23-08-2011  \n",
       "8395         MEDIUM     REGULAR AIR  30-04-2009  \n",
       "8396            LOW     REGULAR AIR  24-09-2010  \n",
       "8397       CRITICAL     REGULAR AIR  21-10-2012  \n",
       "8398         MEDIUM     EXPRESS AIR  11-03-2011  \n",
       "\n",
       "[8399 rows x 18 columns]"
      ],
      "text/html": "<div>\n<style scoped>\n    .dataframe tbody tr th:only-of-type {\n        vertical-align: middle;\n    }\n\n    .dataframe tbody tr th {\n        vertical-align: top;\n    }\n\n    .dataframe thead th {\n        text-align: right;\n    }\n</style>\n<table border=\"1\" class=\"dataframe\">\n  <thead>\n    <tr style=\"text-align: right;\">\n      <th></th>\n      <th>Ord_id</th>\n      <th>Prod_id</th>\n      <th>Ship_id</th>\n      <th>Cust_id</th>\n      <th>Sales</th>\n      <th>Discount</th>\n      <th>Order_Quantity</th>\n      <th>Profit</th>\n      <th>Shipping_Cost</th>\n      <th>Product_Base_Margin</th>\n      <th>Customer_Name</th>\n      <th>Province</th>\n      <th>Region</th>\n      <th>Customer_Segment</th>\n      <th>Order_Date</th>\n      <th>Order_Priority</th>\n      <th>Ship_Mode</th>\n      <th>Ship_Date</th>\n    </tr>\n  </thead>\n  <tbody>\n    <tr>\n      <th>0</th>\n      <td>Ord_5446</td>\n      <td>Prod_16</td>\n      <td>SHP_7609</td>\n      <td>Cust_1818</td>\n      <td>136.8100</td>\n      <td>0.01</td>\n      <td>23</td>\n      <td>-30.51</td>\n      <td>3.60</td>\n      <td>0.56</td>\n      <td>AARON BERGMAN</td>\n      <td>ALBERTA</td>\n      <td>WEST</td>\n      <td>CORPORATE</td>\n      <td>27-07-2010</td>\n      <td>NOT SPECIFIED</td>\n      <td>REGULAR AIR</td>\n      <td>28-07-2010</td>\n    </tr>\n    <tr>\n      <th>1</th>\n      <td>Ord_5446</td>\n      <td>Prod_4</td>\n      <td>SHP_7610</td>\n      <td>Cust_1818</td>\n      <td>4701.6900</td>\n      <td>0.00</td>\n      <td>26</td>\n      <td>1148.90</td>\n      <td>2.50</td>\n      <td>0.59</td>\n      <td>AARON BERGMAN</td>\n      <td>ALBERTA</td>\n      <td>WEST</td>\n      <td>CORPORATE</td>\n      <td>27-07-2010</td>\n      <td>NOT SPECIFIED</td>\n      <td>EXPRESS AIR</td>\n      <td>27-07-2010</td>\n    </tr>\n    <tr>\n      <th>2</th>\n      <td>Ord_5446</td>\n      <td>Prod_6</td>\n      <td>SHP_7608</td>\n      <td>Cust_1818</td>\n      <td>164.0200</td>\n      <td>0.03</td>\n      <td>23</td>\n      <td>-47.64</td>\n      <td>6.15</td>\n      <td>0.37</td>\n      <td>AARON BERGMAN</td>\n      <td>ALBERTA</td>\n      <td>WEST</td>\n      <td>CORPORATE</td>\n      <td>27-07-2010</td>\n      <td>NOT SPECIFIED</td>\n      <td>EXPRESS AIR</td>\n      <td>28-07-2010</td>\n    </tr>\n    <tr>\n      <th>3</th>\n      <td>Ord_5406</td>\n      <td>Prod_13</td>\n      <td>SHP_7549</td>\n      <td>Cust_1818</td>\n      <td>42.2700</td>\n      <td>0.01</td>\n      <td>13</td>\n      <td>4.56</td>\n      <td>0.93</td>\n      <td>0.54</td>\n      <td>AARON BERGMAN</td>\n      <td>ALBERTA</td>\n      <td>WEST</td>\n      <td>CORPORATE</td>\n      <td>07-07-2009</td>\n      <td>HIGH</td>\n      <td>EXPRESS AIR</td>\n      <td>08-07-2009</td>\n    </tr>\n    <tr>\n      <th>4</th>\n      <td>Ord_5456</td>\n      <td>Prod_6</td>\n      <td>SHP_7625</td>\n      <td>Cust_1818</td>\n      <td>2337.8900</td>\n      <td>0.09</td>\n      <td>43</td>\n      <td>729.34</td>\n      <td>14.30</td>\n      <td>0.37</td>\n      <td>AARON BERGMAN</td>\n      <td>ALBERTA</td>\n      <td>WEST</td>\n      <td>CORPORATE</td>\n      <td>09-11-2010</td>\n      <td>MEDIUM</td>\n      <td>EXPRESS AIR</td>\n      <td>11-11-2010</td>\n    </tr>\n    <tr>\n      <th>...</th>\n      <td>...</td>\n      <td>...</td>\n      <td>...</td>\n      <td>...</td>\n      <td>...</td>\n      <td>...</td>\n      <td>...</td>\n      <td>...</td>\n      <td>...</td>\n      <td>...</td>\n      <td>...</td>\n      <td>...</td>\n      <td>...</td>\n      <td>...</td>\n      <td>...</td>\n      <td>...</td>\n      <td>...</td>\n      <td>...</td>\n    </tr>\n    <tr>\n      <th>8394</th>\n      <td>Ord_5348</td>\n      <td>Prod_15</td>\n      <td>SHP_7469</td>\n      <td>Cust_1798</td>\n      <td>3872.8700</td>\n      <td>0.03</td>\n      <td>23</td>\n      <td>565.34</td>\n      <td>30.00</td>\n      <td>0.62</td>\n      <td>YOSEPH CARROLL</td>\n      <td>ALBERTA</td>\n      <td>WEST</td>\n      <td>CONSUMER</td>\n      <td>21-08-2011</td>\n      <td>HIGH</td>\n      <td>DELIVERY TRUCK</td>\n      <td>23-08-2011</td>\n    </tr>\n    <tr>\n      <th>8395</th>\n      <td>Ord_5353</td>\n      <td>Prod_4</td>\n      <td>SHP_7479</td>\n      <td>Cust_1798</td>\n      <td>2841.4395</td>\n      <td>0.08</td>\n      <td>28</td>\n      <td>374.63</td>\n      <td>7.69</td>\n      <td>0.59</td>\n      <td>YOSEPH CARROLL</td>\n      <td>ALBERTA</td>\n      <td>WEST</td>\n      <td>CONSUMER</td>\n      <td>29-04-2009</td>\n      <td>MEDIUM</td>\n      <td>REGULAR AIR</td>\n      <td>30-04-2009</td>\n    </tr>\n    <tr>\n      <th>8396</th>\n      <td>Ord_5411</td>\n      <td>Prod_6</td>\n      <td>SHP_7555</td>\n      <td>Cust_1798</td>\n      <td>127.1600</td>\n      <td>0.10</td>\n      <td>20</td>\n      <td>-74.03</td>\n      <td>6.92</td>\n      <td>0.37</td>\n      <td>YOSEPH CARROLL</td>\n      <td>ALBERTA</td>\n      <td>WEST</td>\n      <td>CONSUMER</td>\n      <td>17-09-2010</td>\n      <td>LOW</td>\n      <td>REGULAR AIR</td>\n      <td>24-09-2010</td>\n    </tr>\n    <tr>\n      <th>8397</th>\n      <td>Ord_5388</td>\n      <td>Prod_6</td>\n      <td>SHP_7524</td>\n      <td>Cust_1798</td>\n      <td>243.0500</td>\n      <td>0.02</td>\n      <td>39</td>\n      <td>-70.85</td>\n      <td>5.35</td>\n      <td>0.40</td>\n      <td>YOSEPH CARROLL</td>\n      <td>ALBERTA</td>\n      <td>WEST</td>\n      <td>CONSUMER</td>\n      <td>18-10-2012</td>\n      <td>CRITICAL</td>\n      <td>REGULAR AIR</td>\n      <td>21-10-2012</td>\n    </tr>\n    <tr>\n      <th>8398</th>\n      <td>Ord_5459</td>\n      <td>Prod_6</td>\n      <td>SHP_7628</td>\n      <td>Cust_1798</td>\n      <td>603.6900</td>\n      <td>0.00</td>\n      <td>47</td>\n      <td>131.39</td>\n      <td>4.86</td>\n      <td>0.38</td>\n      <td>YOSEPH CARROLL</td>\n      <td>ALBERTA</td>\n      <td>WEST</td>\n      <td>CONSUMER</td>\n      <td>10-03-2011</td>\n      <td>MEDIUM</td>\n      <td>EXPRESS AIR</td>\n      <td>11-03-2011</td>\n    </tr>\n  </tbody>\n</table>\n<p>8399 rows × 18 columns</p>\n</div>"
     },
     "metadata": {},
     "execution_count": 32
    }
   ],
   "source": [
    "df8 = pd.merge(df7, df4, how='inner', on='Ship_id')\n",
    "df8"
   ]
  },
  {
   "cell_type": "code",
   "execution_count": 33,
   "metadata": {},
   "outputs": [
    {
     "output_type": "execute_result",
     "data": {
      "text/plain": [
       "        Ord_id  Prod_id   Ship_id    Cust_id     Sales  Discount  \\\n",
       "0     Ord_5446  Prod_16  SHP_7609  Cust_1818    136.81      0.01   \n",
       "1     Ord_2978  Prod_16  SHP_4112  Cust_1088    305.05      0.04   \n",
       "2     Ord_5484  Prod_16  SHP_7663  Cust_1820    322.82      0.05   \n",
       "3     Ord_3730  Prod_16  SHP_5175  Cust_1314    459.08      0.04   \n",
       "4     Ord_4143  Prod_16  SHP_5771  Cust_1417    207.21      0.06   \n",
       "...        ...      ...       ...        ...       ...       ...   \n",
       "8394  Ord_5467  Prod_14  SHP_7639  Cust_1803   5964.19      0.10   \n",
       "8395   Ord_825  Prod_14  SHP_1132   Cust_247  27663.92      0.05   \n",
       "8396  Ord_5368  Prod_14  SHP_7497  Cust_1795  17279.62      0.04   \n",
       "8397  Ord_1765  Prod_14  SHP_2446   Cust_595  14647.26      0.07   \n",
       "8398  Ord_3610  Prod_14  SHP_4998  Cust_1266   1759.65      0.06   \n",
       "\n",
       "      Order_Quantity   Profit  Shipping_Cost  Product_Base_Margin  \\\n",
       "0                 23   -30.51           3.60                 0.56   \n",
       "1                 27    23.12           3.37                 0.57   \n",
       "2                 35   -17.58           3.98                 0.56   \n",
       "3                 34    61.57           3.14                 0.60   \n",
       "4                 24   -78.64           6.14                 0.59   \n",
       "...              ...      ...            ...                  ...   \n",
       "8394              33   988.20          24.49                 0.46   \n",
       "8395               8  -391.92          24.49                 0.37   \n",
       "8396              40  4176.25          24.49                 0.52   \n",
       "8397              25  5485.15          24.49                 0.37   \n",
       "8398               3 -2213.75          24.49                 0.50   \n",
       "\n",
       "            Customer_Name          Province    Region Customer_Segment  \\\n",
       "0           AARON BERGMAN           ALBERTA      WEST        CORPORATE   \n",
       "1           AARON HAWKINS           ONTARIO   ONTARIO      HOME OFFICE   \n",
       "2            ADRIAN SHAMI           ALBERTA      WEST         CONSUMER   \n",
       "3     ALEKSANDRA GANNAWAY       SASKACHEWAN    PRARIE        CORPORATE   \n",
       "4            ALLEN ARMOLD     NEW BRUNSWICK  ATLANTIC      HOME OFFICE   \n",
       "...                   ...               ...       ...              ...   \n",
       "8394        TONJA TURNELL           ALBERTA      WEST         CONSUMER   \n",
       "8395         TONY CHAPMAN  BRITISH COLUMBIA      WEST         CONSUMER   \n",
       "8396           TONY SAYRE           ALBERTA      WEST   SMALL BUSINESS   \n",
       "8397      VICTORIA WILSON           ONTARIO   ONTARIO      HOME OFFICE   \n",
       "8398        WILLIAM BROWN       SASKACHEWAN    PRARIE        CORPORATE   \n",
       "\n",
       "      Order_Date Order_Priority    Ship_Mode   Ship_Date Product_Category  \\\n",
       "0     27-07-2010  NOT SPECIFIED  REGULAR AIR  28-07-2010  OFFICE SUPPLIES   \n",
       "1     24-02-2011           HIGH  REGULAR AIR  26-02-2011  OFFICE SUPPLIES   \n",
       "2     26-02-2012            LOW  REGULAR AIR  03-03-2012  OFFICE SUPPLIES   \n",
       "3     07-12-2009         MEDIUM  EXPRESS AIR  09-12-2009  OFFICE SUPPLIES   \n",
       "4     09-10-2009       CRITICAL  REGULAR AIR  10-10-2009  OFFICE SUPPLIES   \n",
       "...          ...            ...          ...         ...              ...   \n",
       "8394  10-07-2011  NOT SPECIFIED  REGULAR AIR  12-07-2011       TECHNOLOGY   \n",
       "8395  10-01-2011       CRITICAL  REGULAR AIR  12-01-2011       TECHNOLOGY   \n",
       "8396  01-07-2009            LOW  REGULAR AIR  05-07-2009       TECHNOLOGY   \n",
       "8397  17-06-2010            LOW  REGULAR AIR  26-06-2010       TECHNOLOGY   \n",
       "8398  23-03-2009  NOT SPECIFIED  REGULAR AIR  24-03-2009       TECHNOLOGY   \n",
       "\n",
       "              Product_Sub_Category  \n",
       "0     SCISSORS RULERS AND TRIMMERS  \n",
       "1     SCISSORS RULERS AND TRIMMERS  \n",
       "2     SCISSORS RULERS AND TRIMMERS  \n",
       "3     SCISSORS RULERS AND TRIMMERS  \n",
       "4     SCISSORS RULERS AND TRIMMERS  \n",
       "...                            ...  \n",
       "8394               COPIERS AND FAX  \n",
       "8395               COPIERS AND FAX  \n",
       "8396               COPIERS AND FAX  \n",
       "8397               COPIERS AND FAX  \n",
       "8398               COPIERS AND FAX  \n",
       "\n",
       "[8399 rows x 20 columns]"
      ],
      "text/html": "<div>\n<style scoped>\n    .dataframe tbody tr th:only-of-type {\n        vertical-align: middle;\n    }\n\n    .dataframe tbody tr th {\n        vertical-align: top;\n    }\n\n    .dataframe thead th {\n        text-align: right;\n    }\n</style>\n<table border=\"1\" class=\"dataframe\">\n  <thead>\n    <tr style=\"text-align: right;\">\n      <th></th>\n      <th>Ord_id</th>\n      <th>Prod_id</th>\n      <th>Ship_id</th>\n      <th>Cust_id</th>\n      <th>Sales</th>\n      <th>Discount</th>\n      <th>Order_Quantity</th>\n      <th>Profit</th>\n      <th>Shipping_Cost</th>\n      <th>Product_Base_Margin</th>\n      <th>Customer_Name</th>\n      <th>Province</th>\n      <th>Region</th>\n      <th>Customer_Segment</th>\n      <th>Order_Date</th>\n      <th>Order_Priority</th>\n      <th>Ship_Mode</th>\n      <th>Ship_Date</th>\n      <th>Product_Category</th>\n      <th>Product_Sub_Category</th>\n    </tr>\n  </thead>\n  <tbody>\n    <tr>\n      <th>0</th>\n      <td>Ord_5446</td>\n      <td>Prod_16</td>\n      <td>SHP_7609</td>\n      <td>Cust_1818</td>\n      <td>136.81</td>\n      <td>0.01</td>\n      <td>23</td>\n      <td>-30.51</td>\n      <td>3.60</td>\n      <td>0.56</td>\n      <td>AARON BERGMAN</td>\n      <td>ALBERTA</td>\n      <td>WEST</td>\n      <td>CORPORATE</td>\n      <td>27-07-2010</td>\n      <td>NOT SPECIFIED</td>\n      <td>REGULAR AIR</td>\n      <td>28-07-2010</td>\n      <td>OFFICE SUPPLIES</td>\n      <td>SCISSORS RULERS AND TRIMMERS</td>\n    </tr>\n    <tr>\n      <th>1</th>\n      <td>Ord_2978</td>\n      <td>Prod_16</td>\n      <td>SHP_4112</td>\n      <td>Cust_1088</td>\n      <td>305.05</td>\n      <td>0.04</td>\n      <td>27</td>\n      <td>23.12</td>\n      <td>3.37</td>\n      <td>0.57</td>\n      <td>AARON HAWKINS</td>\n      <td>ONTARIO</td>\n      <td>ONTARIO</td>\n      <td>HOME OFFICE</td>\n      <td>24-02-2011</td>\n      <td>HIGH</td>\n      <td>REGULAR AIR</td>\n      <td>26-02-2011</td>\n      <td>OFFICE SUPPLIES</td>\n      <td>SCISSORS RULERS AND TRIMMERS</td>\n    </tr>\n    <tr>\n      <th>2</th>\n      <td>Ord_5484</td>\n      <td>Prod_16</td>\n      <td>SHP_7663</td>\n      <td>Cust_1820</td>\n      <td>322.82</td>\n      <td>0.05</td>\n      <td>35</td>\n      <td>-17.58</td>\n      <td>3.98</td>\n      <td>0.56</td>\n      <td>ADRIAN SHAMI</td>\n      <td>ALBERTA</td>\n      <td>WEST</td>\n      <td>CONSUMER</td>\n      <td>26-02-2012</td>\n      <td>LOW</td>\n      <td>REGULAR AIR</td>\n      <td>03-03-2012</td>\n      <td>OFFICE SUPPLIES</td>\n      <td>SCISSORS RULERS AND TRIMMERS</td>\n    </tr>\n    <tr>\n      <th>3</th>\n      <td>Ord_3730</td>\n      <td>Prod_16</td>\n      <td>SHP_5175</td>\n      <td>Cust_1314</td>\n      <td>459.08</td>\n      <td>0.04</td>\n      <td>34</td>\n      <td>61.57</td>\n      <td>3.14</td>\n      <td>0.60</td>\n      <td>ALEKSANDRA GANNAWAY</td>\n      <td>SASKACHEWAN</td>\n      <td>PRARIE</td>\n      <td>CORPORATE</td>\n      <td>07-12-2009</td>\n      <td>MEDIUM</td>\n      <td>EXPRESS AIR</td>\n      <td>09-12-2009</td>\n      <td>OFFICE SUPPLIES</td>\n      <td>SCISSORS RULERS AND TRIMMERS</td>\n    </tr>\n    <tr>\n      <th>4</th>\n      <td>Ord_4143</td>\n      <td>Prod_16</td>\n      <td>SHP_5771</td>\n      <td>Cust_1417</td>\n      <td>207.21</td>\n      <td>0.06</td>\n      <td>24</td>\n      <td>-78.64</td>\n      <td>6.14</td>\n      <td>0.59</td>\n      <td>ALLEN ARMOLD</td>\n      <td>NEW BRUNSWICK</td>\n      <td>ATLANTIC</td>\n      <td>HOME OFFICE</td>\n      <td>09-10-2009</td>\n      <td>CRITICAL</td>\n      <td>REGULAR AIR</td>\n      <td>10-10-2009</td>\n      <td>OFFICE SUPPLIES</td>\n      <td>SCISSORS RULERS AND TRIMMERS</td>\n    </tr>\n    <tr>\n      <th>...</th>\n      <td>...</td>\n      <td>...</td>\n      <td>...</td>\n      <td>...</td>\n      <td>...</td>\n      <td>...</td>\n      <td>...</td>\n      <td>...</td>\n      <td>...</td>\n      <td>...</td>\n      <td>...</td>\n      <td>...</td>\n      <td>...</td>\n      <td>...</td>\n      <td>...</td>\n      <td>...</td>\n      <td>...</td>\n      <td>...</td>\n      <td>...</td>\n      <td>...</td>\n    </tr>\n    <tr>\n      <th>8394</th>\n      <td>Ord_5467</td>\n      <td>Prod_14</td>\n      <td>SHP_7639</td>\n      <td>Cust_1803</td>\n      <td>5964.19</td>\n      <td>0.10</td>\n      <td>33</td>\n      <td>988.20</td>\n      <td>24.49</td>\n      <td>0.46</td>\n      <td>TONJA TURNELL</td>\n      <td>ALBERTA</td>\n      <td>WEST</td>\n      <td>CONSUMER</td>\n      <td>10-07-2011</td>\n      <td>NOT SPECIFIED</td>\n      <td>REGULAR AIR</td>\n      <td>12-07-2011</td>\n      <td>TECHNOLOGY</td>\n      <td>COPIERS AND FAX</td>\n    </tr>\n    <tr>\n      <th>8395</th>\n      <td>Ord_825</td>\n      <td>Prod_14</td>\n      <td>SHP_1132</td>\n      <td>Cust_247</td>\n      <td>27663.92</td>\n      <td>0.05</td>\n      <td>8</td>\n      <td>-391.92</td>\n      <td>24.49</td>\n      <td>0.37</td>\n      <td>TONY CHAPMAN</td>\n      <td>BRITISH COLUMBIA</td>\n      <td>WEST</td>\n      <td>CONSUMER</td>\n      <td>10-01-2011</td>\n      <td>CRITICAL</td>\n      <td>REGULAR AIR</td>\n      <td>12-01-2011</td>\n      <td>TECHNOLOGY</td>\n      <td>COPIERS AND FAX</td>\n    </tr>\n    <tr>\n      <th>8396</th>\n      <td>Ord_5368</td>\n      <td>Prod_14</td>\n      <td>SHP_7497</td>\n      <td>Cust_1795</td>\n      <td>17279.62</td>\n      <td>0.04</td>\n      <td>40</td>\n      <td>4176.25</td>\n      <td>24.49</td>\n      <td>0.52</td>\n      <td>TONY SAYRE</td>\n      <td>ALBERTA</td>\n      <td>WEST</td>\n      <td>SMALL BUSINESS</td>\n      <td>01-07-2009</td>\n      <td>LOW</td>\n      <td>REGULAR AIR</td>\n      <td>05-07-2009</td>\n      <td>TECHNOLOGY</td>\n      <td>COPIERS AND FAX</td>\n    </tr>\n    <tr>\n      <th>8397</th>\n      <td>Ord_1765</td>\n      <td>Prod_14</td>\n      <td>SHP_2446</td>\n      <td>Cust_595</td>\n      <td>14647.26</td>\n      <td>0.07</td>\n      <td>25</td>\n      <td>5485.15</td>\n      <td>24.49</td>\n      <td>0.37</td>\n      <td>VICTORIA WILSON</td>\n      <td>ONTARIO</td>\n      <td>ONTARIO</td>\n      <td>HOME OFFICE</td>\n      <td>17-06-2010</td>\n      <td>LOW</td>\n      <td>REGULAR AIR</td>\n      <td>26-06-2010</td>\n      <td>TECHNOLOGY</td>\n      <td>COPIERS AND FAX</td>\n    </tr>\n    <tr>\n      <th>8398</th>\n      <td>Ord_3610</td>\n      <td>Prod_14</td>\n      <td>SHP_4998</td>\n      <td>Cust_1266</td>\n      <td>1759.65</td>\n      <td>0.06</td>\n      <td>3</td>\n      <td>-2213.75</td>\n      <td>24.49</td>\n      <td>0.50</td>\n      <td>WILLIAM BROWN</td>\n      <td>SASKACHEWAN</td>\n      <td>PRARIE</td>\n      <td>CORPORATE</td>\n      <td>23-03-2009</td>\n      <td>NOT SPECIFIED</td>\n      <td>REGULAR AIR</td>\n      <td>24-03-2009</td>\n      <td>TECHNOLOGY</td>\n      <td>COPIERS AND FAX</td>\n    </tr>\n  </tbody>\n</table>\n<p>8399 rows × 20 columns</p>\n</div>"
     },
     "metadata": {},
     "execution_count": 33
    }
   ],
   "source": [
    "df9 = pd.merge(df8, df5, how='inner', on='Prod_id')\n",
    "df9"
   ]
  },
  {
   "cell_type": "code",
   "execution_count": 36,
   "metadata": {},
   "outputs": [],
   "source": [
    "df9.to_csv(\"All_dimen.csv\", index=False) # All dimension merged"
   ]
  },
  {
   "cell_type": "code",
   "execution_count": 40,
   "metadata": {},
   "outputs": [],
   "source": [
    "df9.to_excel(\"All_dimen.xlsx\")"
   ]
  },
  {
   "cell_type": "code",
   "execution_count": null,
   "metadata": {},
   "outputs": [],
   "source": []
  }
 ]
}