{
 "metadata": {
  "language_info": {
   "codemirror_mode": {
    "name": "ipython",
    "version": 3
   },
   "file_extension": ".py",
   "mimetype": "text/x-python",
   "name": "python",
   "nbconvert_exporter": "python",
   "pygments_lexer": "ipython3",
   "version": "3.8.5"
  },
  "orig_nbformat": 2,
  "kernelspec": {
   "name": "python385jvsc74a57bd04ab2ae14c63d256e2c14138b919be176e86cfdf7b485126d970051b6699232f4",
   "display_name": "Python 3.8.5 64-bit ('base': conda)"
  },
  "metadata": {
   "interpreter": {
    "hash": "4ab2ae14c63d256e2c14138b919be176e86cfdf7b485126d970051b6699232f4"
   }
  }
 },
 "nbformat": 4,
 "nbformat_minor": 2,
 "cells": [
  {
   "cell_type": "code",
   "execution_count": 1,
   "metadata": {},
   "outputs": [],
   "source": [
    "import pandas as pd \n",
    "import numpy as np "
   ]
  },
  {
   "cell_type": "code",
   "execution_count": 4,
   "metadata": {},
   "outputs": [
    {
     "output_type": "execute_result",
     "data": {
      "text/plain": [
       "        Customer_Name Province   Region Customer_Segment Cust_id\n",
       "0  MUHAMMED MACINTYRE  NUNAVUT  NUNAVUT   SMALL BUSINESS  Cust_1\n",
       "1        BARRY FRENCH  NUNAVUT  NUNAVUT         CONSUMER  Cust_2\n",
       "2       CLAY ROZENDAL  NUNAVUT  NUNAVUT        CORPORATE  Cust_3\n",
       "3      CARLOS SOLTERO  NUNAVUT  NUNAVUT         CONSUMER  Cust_4\n",
       "4        CARL JACKSON  NUNAVUT  NUNAVUT        CORPORATE  Cust_5"
      ],
      "text/html": "<div>\n<style scoped>\n    .dataframe tbody tr th:only-of-type {\n        vertical-align: middle;\n    }\n\n    .dataframe tbody tr th {\n        vertical-align: top;\n    }\n\n    .dataframe thead th {\n        text-align: right;\n    }\n</style>\n<table border=\"1\" class=\"dataframe\">\n  <thead>\n    <tr style=\"text-align: right;\">\n      <th></th>\n      <th>Customer_Name</th>\n      <th>Province</th>\n      <th>Region</th>\n      <th>Customer_Segment</th>\n      <th>Cust_id</th>\n    </tr>\n  </thead>\n  <tbody>\n    <tr>\n      <th>0</th>\n      <td>MUHAMMED MACINTYRE</td>\n      <td>NUNAVUT</td>\n      <td>NUNAVUT</td>\n      <td>SMALL BUSINESS</td>\n      <td>Cust_1</td>\n    </tr>\n    <tr>\n      <th>1</th>\n      <td>BARRY FRENCH</td>\n      <td>NUNAVUT</td>\n      <td>NUNAVUT</td>\n      <td>CONSUMER</td>\n      <td>Cust_2</td>\n    </tr>\n    <tr>\n      <th>2</th>\n      <td>CLAY ROZENDAL</td>\n      <td>NUNAVUT</td>\n      <td>NUNAVUT</td>\n      <td>CORPORATE</td>\n      <td>Cust_3</td>\n    </tr>\n    <tr>\n      <th>3</th>\n      <td>CARLOS SOLTERO</td>\n      <td>NUNAVUT</td>\n      <td>NUNAVUT</td>\n      <td>CONSUMER</td>\n      <td>Cust_4</td>\n    </tr>\n    <tr>\n      <th>4</th>\n      <td>CARL JACKSON</td>\n      <td>NUNAVUT</td>\n      <td>NUNAVUT</td>\n      <td>CORPORATE</td>\n      <td>Cust_5</td>\n    </tr>\n  </tbody>\n</table>\n</div>"
     },
     "metadata": {},
     "execution_count": 4
    }
   ],
   "source": [
    "df1 = pd.read_csv(\"cust_dimen.csv\")\n",
    "df1.head()"
   ]
  },
  {
   "cell_type": "code",
   "execution_count": 7,
   "metadata": {},
   "outputs": [
    {
     "output_type": "execute_result",
     "data": {
      "text/plain": [
       "     Ord_id  Prod_id   Ship_id    Cust_id    Sales  Discount  Order_Quantity  \\\n",
       "0  Ord_5446  Prod_16  SHP_7609  Cust_1818   136.81      0.01              23   \n",
       "1  Ord_5406  Prod_13  SHP_7549  Cust_1818    42.27      0.01              13   \n",
       "2  Ord_5446   Prod_4  SHP_7610  Cust_1818  4701.69      0.00              26   \n",
       "3  Ord_5456   Prod_6  SHP_7625  Cust_1818  2337.89      0.09              43   \n",
       "4  Ord_5485  Prod_17  SHP_7664  Cust_1818  4233.15      0.08              35   \n",
       "\n",
       "    Profit  Shipping_Cost  Product_Base_Margin  \n",
       "0   -30.51           3.60                 0.56  \n",
       "1     4.56           0.93                 0.54  \n",
       "2  1148.90           2.50                 0.59  \n",
       "3   729.34          14.30                 0.37  \n",
       "4  1219.87          26.30                 0.38  "
      ],
      "text/html": "<div>\n<style scoped>\n    .dataframe tbody tr th:only-of-type {\n        vertical-align: middle;\n    }\n\n    .dataframe tbody tr th {\n        vertical-align: top;\n    }\n\n    .dataframe thead th {\n        text-align: right;\n    }\n</style>\n<table border=\"1\" class=\"dataframe\">\n  <thead>\n    <tr style=\"text-align: right;\">\n      <th></th>\n      <th>Ord_id</th>\n      <th>Prod_id</th>\n      <th>Ship_id</th>\n      <th>Cust_id</th>\n      <th>Sales</th>\n      <th>Discount</th>\n      <th>Order_Quantity</th>\n      <th>Profit</th>\n      <th>Shipping_Cost</th>\n      <th>Product_Base_Margin</th>\n    </tr>\n  </thead>\n  <tbody>\n    <tr>\n      <th>0</th>\n      <td>Ord_5446</td>\n      <td>Prod_16</td>\n      <td>SHP_7609</td>\n      <td>Cust_1818</td>\n      <td>136.81</td>\n      <td>0.01</td>\n      <td>23</td>\n      <td>-30.51</td>\n      <td>3.60</td>\n      <td>0.56</td>\n    </tr>\n    <tr>\n      <th>1</th>\n      <td>Ord_5406</td>\n      <td>Prod_13</td>\n      <td>SHP_7549</td>\n      <td>Cust_1818</td>\n      <td>42.27</td>\n      <td>0.01</td>\n      <td>13</td>\n      <td>4.56</td>\n      <td>0.93</td>\n      <td>0.54</td>\n    </tr>\n    <tr>\n      <th>2</th>\n      <td>Ord_5446</td>\n      <td>Prod_4</td>\n      <td>SHP_7610</td>\n      <td>Cust_1818</td>\n      <td>4701.69</td>\n      <td>0.00</td>\n      <td>26</td>\n      <td>1148.90</td>\n      <td>2.50</td>\n      <td>0.59</td>\n    </tr>\n    <tr>\n      <th>3</th>\n      <td>Ord_5456</td>\n      <td>Prod_6</td>\n      <td>SHP_7625</td>\n      <td>Cust_1818</td>\n      <td>2337.89</td>\n      <td>0.09</td>\n      <td>43</td>\n      <td>729.34</td>\n      <td>14.30</td>\n      <td>0.37</td>\n    </tr>\n    <tr>\n      <th>4</th>\n      <td>Ord_5485</td>\n      <td>Prod_17</td>\n      <td>SHP_7664</td>\n      <td>Cust_1818</td>\n      <td>4233.15</td>\n      <td>0.08</td>\n      <td>35</td>\n      <td>1219.87</td>\n      <td>26.30</td>\n      <td>0.38</td>\n    </tr>\n  </tbody>\n</table>\n</div>"
     },
     "metadata": {},
     "execution_count": 7
    }
   ],
   "source": [
    "df2 = pd.read_csv(\"market_fact.csv\")\n",
    "df2.head()"
   ]
  },
  {
   "cell_type": "code",
   "execution_count": 9,
   "metadata": {},
   "outputs": [
    {
     "output_type": "execute_result",
     "data": {
      "text/plain": [
       "   Order_Date Order_Priority Ord_id\n",
       "0  13-10-2010            LOW  Ord_1\n",
       "1  01-10-2012           HIGH  Ord_2\n",
       "2  10-07-2011           HIGH  Ord_3\n",
       "3  28-08-2010  NOT SPECIFIED  Ord_4\n",
       "4  17-06-2011           HIGH  Ord_5"
      ],
      "text/html": "<div>\n<style scoped>\n    .dataframe tbody tr th:only-of-type {\n        vertical-align: middle;\n    }\n\n    .dataframe tbody tr th {\n        vertical-align: top;\n    }\n\n    .dataframe thead th {\n        text-align: right;\n    }\n</style>\n<table border=\"1\" class=\"dataframe\">\n  <thead>\n    <tr style=\"text-align: right;\">\n      <th></th>\n      <th>Order_Date</th>\n      <th>Order_Priority</th>\n      <th>Ord_id</th>\n    </tr>\n  </thead>\n  <tbody>\n    <tr>\n      <th>0</th>\n      <td>13-10-2010</td>\n      <td>LOW</td>\n      <td>Ord_1</td>\n    </tr>\n    <tr>\n      <th>1</th>\n      <td>01-10-2012</td>\n      <td>HIGH</td>\n      <td>Ord_2</td>\n    </tr>\n    <tr>\n      <th>2</th>\n      <td>10-07-2011</td>\n      <td>HIGH</td>\n      <td>Ord_3</td>\n    </tr>\n    <tr>\n      <th>3</th>\n      <td>28-08-2010</td>\n      <td>NOT SPECIFIED</td>\n      <td>Ord_4</td>\n    </tr>\n    <tr>\n      <th>4</th>\n      <td>17-06-2011</td>\n      <td>HIGH</td>\n      <td>Ord_5</td>\n    </tr>\n  </tbody>\n</table>\n</div>"
     },
     "metadata": {},
     "execution_count": 9
    }
   ],
   "source": [
    "df3 = pd.read_csv(\"orders_dimen.csv\")\n",
    "df3.head()"
   ]
  },
  {
   "cell_type": "code",
   "execution_count": null,
   "metadata": {},
   "outputs": [],
   "source": []
  }
 ]
}