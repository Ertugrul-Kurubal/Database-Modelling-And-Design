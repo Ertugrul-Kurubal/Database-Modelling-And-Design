{
 "cells": [
  {
   "cell_type": "code",
   "execution_count": 1,
   "metadata": {},
   "outputs": [
    {
     "name": "stdout",
     "output_type": "stream",
     "text": [
      "Requirement already satisfied: pyodbc in c:\\users\\e_kur\\anaconda3\\lib\\site-packages (4.0.0-unsupported)\n",
      "Note: you may need to restart the kernel to use updated packages.\n"
     ]
    }
   ],
   "source": [
    "pip install pyodbc"
   ]
  },
  {
   "cell_type": "code",
   "execution_count": 65,
   "metadata": {},
   "outputs": [],
   "source": [
    "import pyodbc\n",
    "import pandas as pd"
   ]
  },
  {
   "cell_type": "code",
   "execution_count": 2,
   "metadata": {},
   "outputs": [],
   "source": [
    "def create_server_connection(driver, server, database, user, password):\n",
    "    conn = None\n",
    "    try:\n",
    "        conn = pyodbc.connect(DRIVER = driver, SERVER = server, DATABASE = database, UID = user, PWD = password)\n",
    "        print(\"MS SQL Server Database connection successful\")\n",
    "    except Error as err:\n",
    "        print(f\"Error: '{err}'\")\n",
    "    return conn"
   ]
  },
  {
   "cell_type": "code",
   "execution_count": 63,
   "metadata": {},
   "outputs": [
    {
     "name": "stdout",
     "output_type": "stream",
     "text": [
      "MS SQL Server Database connection successful\n"
     ]
    }
   ],
   "source": [
    "driver = '{ODBC Driver 17 for SQL Server}'\n",
    "server = 'VAIO'\n",
    "database = 'master'\n",
    "user = 'sa'\n",
    "password = '14531453'\n",
    "conn = create_server_connection(driver, server, database, user, password)"
   ]
  },
  {
   "cell_type": "code",
   "execution_count": 4,
   "metadata": {},
   "outputs": [],
   "source": [
    "conn.autocommit = True"
   ]
  },
  {
   "cell_type": "code",
   "execution_count": 14,
   "metadata": {},
   "outputs": [],
   "source": [
    "def create_database(conn, create_database_query):\n",
    "    csr = conn.cursor()\n",
    "    try:\n",
    "        csr.execute(create_database_query)\n",
    "        print(\"Database created successfully\")\n",
    "    except Error as err:\n",
    "        print(f\"Error: '{err}'\")"
   ]
  },
  {
   "cell_type": "code",
   "execution_count": 13,
   "metadata": {},
   "outputs": [
    {
     "name": "stdout",
     "output_type": "stream",
     "text": [
      "Database created successfully\n"
     ]
    }
   ],
   "source": [
    "create_database_query = 'CREATE DATABASE Test_DB'\n",
    "create_database(conn, create_database_query)"
   ]
  },
  {
   "cell_type": "code",
   "execution_count": 15,
   "metadata": {},
   "outputs": [],
   "source": [
    "def execute_query(conn, query):\n",
    "    csr = conn.cursor()\n",
    "    try:\n",
    "        csr.execute(query)\n",
    "        conn.commit()\n",
    "        print(\"Query successful\")\n",
    "    \n",
    "    except Error as err:\n",
    "        print(f\"Error: '{err}'\")"
   ]
  },
  {
   "cell_type": "code",
   "execution_count": 8,
   "metadata": {},
   "outputs": [],
   "source": [
    "query ='USE Test_DB'"
   ]
  },
  {
   "cell_type": "code",
   "execution_count": 16,
   "metadata": {},
   "outputs": [
    {
     "name": "stdout",
     "output_type": "stream",
     "text": [
      "Query successful\n"
     ]
    }
   ],
   "source": [
    "execute_query(conn, query)"
   ]
  },
  {
   "cell_type": "code",
   "execution_count": 46,
   "metadata": {},
   "outputs": [
    {
     "name": "stdout",
     "output_type": "stream",
     "text": [
      "Query successful\n"
     ]
    }
   ],
   "source": [
    "query = 'CREATE TABLE TestA ( \\\n",
    "             ID int IDENTITY(1,1) NOT NULL, \\\n",
    "             FirstName varchar(255) NOT NULL, \\\n",
    "             LastName varchar(255) NOT NULL, \\\n",
    "             PRIMARY KEY(ID))'\n",
    "execute_query(conn, query)"
   ]
  },
  {
   "cell_type": "code",
   "execution_count": 17,
   "metadata": {},
   "outputs": [],
   "source": [
    "csr = conn.cursor()"
   ]
  },
  {
   "cell_type": "code",
   "execution_count": 27,
   "metadata": {},
   "outputs": [],
   "source": [
    "csr.execute(\"INSERT TestA (FirstName, LastName) VALUES ('Aaaa', 'Bbbb')\")\n",
    "conn.commit()"
   ]
  },
  {
   "cell_type": "code",
   "execution_count": 28,
   "metadata": {},
   "outputs": [],
   "source": [
    "csr.execute(\"INSERT TestA (FirstName, LastName) VALUES ('Bruce', 'Lee')\")\n",
    "conn.commit()"
   ]
  },
  {
   "cell_type": "code",
   "execution_count": 29,
   "metadata": {},
   "outputs": [],
   "source": [
    "csr.execute(\"INSERT TestA (FirstName, LastName) VALUES ('Bob', 'Marley')\")\n",
    "conn.commit()"
   ]
  },
  {
   "cell_type": "code",
   "execution_count": 30,
   "metadata": {},
   "outputs": [],
   "source": [
    "csr.execute(\"INSERT TestA (FirstName, LastName) VALUES ('Mel', 'Gibson')\")\n",
    "conn.commit()"
   ]
  },
  {
   "cell_type": "code",
   "execution_count": 31,
   "metadata": {},
   "outputs": [
    {
     "data": {
      "text/plain": [
       "<pyodbc.Cursor at 0x2b1182a9630>"
      ]
     },
     "execution_count": 31,
     "metadata": {},
     "output_type": "execute_result"
    }
   ],
   "source": [
    "csr.execute(\"INSERT TestA (FirstName, LastName) VALUES (?, ?)\", 'Tom', 'Cat')\n",
    "csr.execute(\"INSERT TestA (FirstName, LastName) VALUES (?, ?)\", 'Jerry', 'Mouse')\n",
    "csr.execute(\"INSERT TestA (FirstName, LastName) VALUES (?, ?)\", 'Stefan', 'Müller')\n",
    "csr.execute(\"INSERT TestA (FirstName, LastName) VALUES (?, ?)\", 'Dennis', 'Bergkamp')"
   ]
  },
  {
   "cell_type": "code",
   "execution_count": 54,
   "metadata": {},
   "outputs": [
    {
     "data": {
      "text/plain": [
       "<pyodbc.Cursor at 0x1ac61e38830>"
      ]
     },
     "execution_count": 54,
     "metadata": {},
     "output_type": "execute_result"
    }
   ],
   "source": [
    "csr.execute(\"delete from TestA where FirstName = ?\", 'Aaaa')"
   ]
  },
  {
   "cell_type": "code",
   "execution_count": 14,
   "metadata": {},
   "outputs": [],
   "source": [
    "conn.commit()"
   ]
  },
  {
   "cell_type": "code",
   "execution_count": 37,
   "metadata": {},
   "outputs": [
    {
     "name": "stdout",
     "output_type": "stream",
     "text": [
      "1 row(s) deleted\n"
     ]
    }
   ],
   "source": [
    "print(csr.rowcount, 'row(s) deleted')"
   ]
  },
  {
   "cell_type": "code",
   "execution_count": 38,
   "metadata": {},
   "outputs": [],
   "source": [
    "deleted = csr.execute(\"delete from TestA where FirstName = 'Cccc'\").rowcount"
   ]
  },
  {
   "cell_type": "code",
   "execution_count": 39,
   "metadata": {},
   "outputs": [],
   "source": [
    "conn.commit()"
   ]
  },
  {
   "cell_type": "code",
   "execution_count": 40,
   "metadata": {},
   "outputs": [
    {
     "name": "stdout",
     "output_type": "stream",
     "text": [
      "0 row(s) deleted\n"
     ]
    }
   ],
   "source": [
    "print(deleted, 'row(s) deleted')"
   ]
  },
  {
   "cell_type": "code",
   "execution_count": 41,
   "metadata": {},
   "outputs": [
    {
     "name": "stdout",
     "output_type": "stream",
     "text": [
      "('Bruce', 'Lee')\n"
     ]
    }
   ],
   "source": [
    "csr = conn.cursor()\n",
    "csr.execute('SELECT FirstName, LastName FROM TestA')\n",
    "row = csr.fetchone()\n",
    "if row:\n",
    "    print(row)"
   ]
  },
  {
   "cell_type": "code",
   "execution_count": 42,
   "metadata": {},
   "outputs": [
    {
     "data": {
      "text/plain": [
       "'Bruce'"
      ]
     },
     "execution_count": 42,
     "metadata": {},
     "output_type": "execute_result"
    }
   ],
   "source": [
    "row.FirstName"
   ]
  },
  {
   "cell_type": "code",
   "execution_count": 43,
   "metadata": {},
   "outputs": [
    {
     "data": {
      "text/plain": [
       "'Lee'"
      ]
     },
     "execution_count": 43,
     "metadata": {},
     "output_type": "execute_result"
    }
   ],
   "source": [
    "row.LastName"
   ]
  },
  {
   "cell_type": "code",
   "execution_count": 44,
   "metadata": {},
   "outputs": [
    {
     "name": "stdout",
     "output_type": "stream",
     "text": [
      "LastName:  Lee\n"
     ]
    }
   ],
   "source": [
    "print(\"LastName: \", row.LastName)"
   ]
  },
  {
   "cell_type": "code",
   "execution_count": 45,
   "metadata": {},
   "outputs": [
    {
     "name": "stdout",
     "output_type": "stream",
     "text": [
      "FirstName: Bruce\n",
      "FirstName: Bob\n",
      "FirstName: Bob\n",
      "FirstName: Mel\n",
      "FirstName: Aaaa\n",
      "FirstName: Bruce\n",
      "FirstName: Bob\n",
      "FirstName: Mel\n",
      "FirstName: Aaaa\n",
      "FirstName: Bruce\n",
      "FirstName: Bob\n",
      "FirstName: Mel\n",
      "FirstName: Aaaa\n",
      "FirstName: Bruce\n",
      "FirstName: Bob\n",
      "FirstName: Mel\n",
      "FirstName: Tom\n",
      "FirstName: Jerry\n",
      "FirstName: Stefan\n",
      "FirstName: Dennis\n"
     ]
    }
   ],
   "source": [
    "csr.execute('SELECT FirstName, LastName FROM TestA')\n",
    "while True:\n",
    "    row = csr.fetchone()\n",
    "    if not row:\n",
    "        break\n",
    "    print('FirstName:', row.FirstName)"
   ]
  },
  {
   "cell_type": "code",
   "execution_count": 46,
   "metadata": {},
   "outputs": [
    {
     "name": "stdout",
     "output_type": "stream",
     "text": [
      "4 Bruce Lee\n",
      "5 Bob Marley\n",
      "6 Bob Marley\n",
      "7 Mel Gibson\n",
      "8 Aaaa Bbbb\n",
      "9 Bruce Lee\n",
      "10 Bob Marley\n",
      "11 Mel Gibson\n",
      "12 Aaaa Bbbb\n",
      "13 Bruce Lee\n",
      "14 Bob Marley\n",
      "15 Mel Gibson\n",
      "16 Aaaa Bbbb\n",
      "17 Bruce Lee\n",
      "18 Bob Marley\n",
      "19 Mel Gibson\n",
      "20 Tom Cat\n",
      "21 Jerry Mouse\n",
      "22 Stefan Müller\n",
      "23 Dennis Bergkamp\n"
     ]
    }
   ],
   "source": [
    "csr.execute('SELECT ID, FirstName, LastName FROM TestA')\n",
    "while True:\n",
    "    row = csr.fetchone()\n",
    "    if not row:\n",
    "        break\n",
    "    print(row.ID,row.FirstName,row.LastName)"
   ]
  },
  {
   "cell_type": "code",
   "execution_count": 47,
   "metadata": {},
   "outputs": [
    {
     "data": {
      "text/plain": [
       "[(4, 'Bruce', 'Lee'),\n",
       " (5, 'Bob', 'Marley'),\n",
       " (6, 'Bob', 'Marley'),\n",
       " (7, 'Mel', 'Gibson'),\n",
       " (8, 'Aaaa', 'Bbbb'),\n",
       " (9, 'Bruce', 'Lee'),\n",
       " (10, 'Bob', 'Marley'),\n",
       " (11, 'Mel', 'Gibson'),\n",
       " (12, 'Aaaa', 'Bbbb'),\n",
       " (13, 'Bruce', 'Lee'),\n",
       " (14, 'Bob', 'Marley'),\n",
       " (15, 'Mel', 'Gibson'),\n",
       " (16, 'Aaaa', 'Bbbb'),\n",
       " (17, 'Bruce', 'Lee'),\n",
       " (18, 'Bob', 'Marley'),\n",
       " (19, 'Mel', 'Gibson'),\n",
       " (20, 'Tom', 'Cat'),\n",
       " (21, 'Jerry', 'Mouse'),\n",
       " (22, 'Stefan', 'Müller'),\n",
       " (23, 'Dennis', 'Bergkamp')]"
      ]
     },
     "execution_count": 47,
     "metadata": {},
     "output_type": "execute_result"
    }
   ],
   "source": [
    "csr.execute('SELECT ID, FirstName, LastName FROM TestA')\n",
    "rows = csr.fetchall()\n",
    "rows"
   ]
  },
  {
   "cell_type": "code",
   "execution_count": 48,
   "metadata": {},
   "outputs": [
    {
     "data": {
      "text/plain": [
       "[(4, 'Bruce', 'Lee'),\n",
       " (5, 'Bob', 'Marley'),\n",
       " (6, 'Bob', 'Marley'),\n",
       " (7, 'Mel', 'Gibson'),\n",
       " (8, 'Aaaa', 'Bbbb'),\n",
       " (9, 'Bruce', 'Lee'),\n",
       " (10, 'Bob', 'Marley'),\n",
       " (11, 'Mel', 'Gibson'),\n",
       " (12, 'Aaaa', 'Bbbb'),\n",
       " (13, 'Bruce', 'Lee'),\n",
       " (14, 'Bob', 'Marley'),\n",
       " (15, 'Mel', 'Gibson'),\n",
       " (16, 'Aaaa', 'Bbbb'),\n",
       " (17, 'Bruce', 'Lee'),\n",
       " (18, 'Bob', 'Marley'),\n",
       " (19, 'Mel', 'Gibson'),\n",
       " (20, 'Tom', 'Cat'),\n",
       " (21, 'Jerry', 'Mouse'),\n",
       " (22, 'Stefan', 'Müller'),\n",
       " (23, 'Dennis', 'Bergkamp')]"
      ]
     },
     "execution_count": 48,
     "metadata": {},
     "output_type": "execute_result"
    }
   ],
   "source": [
    "csr.execute(\"\"\"SELECT ID, FirstName, LastName \n",
    "            FROM TestA\"\"\")\n",
    "rows = csr.fetchall()\n",
    "rows"
   ]
  },
  {
   "cell_type": "code",
   "execution_count": 49,
   "metadata": {},
   "outputs": [
    {
     "name": "stdout",
     "output_type": "stream",
     "text": [
      "4 Bruce Lee\n",
      "5 Bob Marley\n",
      "6 Bob Marley\n",
      "7 Mel Gibson\n",
      "8 Aaaa Bbbb\n",
      "9 Bruce Lee\n",
      "10 Bob Marley\n",
      "11 Mel Gibson\n",
      "12 Aaaa Bbbb\n",
      "13 Bruce Lee\n",
      "14 Bob Marley\n",
      "15 Mel Gibson\n",
      "16 Aaaa Bbbb\n",
      "17 Bruce Lee\n",
      "18 Bob Marley\n",
      "19 Mel Gibson\n",
      "20 Tom Cat\n",
      "21 Jerry Mouse\n",
      "22 Stefan Müller\n",
      "23 Dennis Bergkamp\n"
     ]
    }
   ],
   "source": [
    "for row in rows:\n",
    "    print(row.ID,row.FirstName,row.LastName)"
   ]
  },
  {
   "cell_type": "code",
   "execution_count": 50,
   "metadata": {},
   "outputs": [
    {
     "data": {
      "text/plain": [
       "list"
      ]
     },
     "execution_count": 50,
     "metadata": {},
     "output_type": "execute_result"
    }
   ],
   "source": [
    "type(rows)"
   ]
  },
  {
   "cell_type": "code",
   "execution_count": 51,
   "metadata": {},
   "outputs": [
    {
     "data": {
      "text/plain": [
       "[(7, 'Mel', 'Gibson'),\n",
       " (11, 'Mel', 'Gibson'),\n",
       " (15, 'Mel', 'Gibson'),\n",
       " (19, 'Mel', 'Gibson')]"
      ]
     },
     "execution_count": 51,
     "metadata": {},
     "output_type": "execute_result"
    }
   ],
   "source": [
    "csr.execute(\"\"\"SELECT ID, FirstName, LastName \n",
    "            FROM TestA\n",
    "            WHERE FirstName = ? and LastName = ?\"\"\",['Mel','Gibson'])\n",
    "rows = csr.fetchall()\n",
    "rows"
   ]
  },
  {
   "cell_type": "code",
   "execution_count": 52,
   "metadata": {},
   "outputs": [
    {
     "data": {
      "text/plain": [
       "[(7, 'Mel', 'Gibson'),\n",
       " (11, 'Mel', 'Gibson'),\n",
       " (15, 'Mel', 'Gibson'),\n",
       " (19, 'Mel', 'Gibson')]"
      ]
     },
     "execution_count": 52,
     "metadata": {},
     "output_type": "execute_result"
    }
   ],
   "source": [
    "csr.execute(\"\"\"SELECT ID, FirstName, LastName \n",
    "            FROM TestA\n",
    "            WHERE FirstName = ? and LastName = ?\"\"\",['Mel','Gibson'])\n",
    "rows = csr.fetchmany(4)\n",
    "rows"
   ]
  },
  {
   "cell_type": "code",
   "execution_count": 53,
   "metadata": {},
   "outputs": [
    {
     "data": {
      "text/plain": [
       "[(7, 'Mel', 'Gibson')]"
      ]
     },
     "execution_count": 53,
     "metadata": {},
     "output_type": "execute_result"
    }
   ],
   "source": [
    "csr.execute(\"\"\"SELECT ID, FirstName, LastName \n",
    "            FROM TestA\n",
    "            WHERE FirstName = ? and LastName = ?\"\"\",['Mel','Gibson'])\n",
    "rows = csr.fetchmany(1)\n",
    "rows"
   ]
  },
  {
   "cell_type": "code",
   "execution_count": 54,
   "metadata": {},
   "outputs": [
    {
     "data": {
      "text/plain": [
       "[(4, 'Bruce', 'Lee'), (5, 'Bob', 'Marley')]"
      ]
     },
     "execution_count": 54,
     "metadata": {},
     "output_type": "execute_result"
    }
   ],
   "source": [
    "csr.execute(\"\"\"SELECT ID, FirstName, LastName \n",
    "            FROM TestA\"\"\")\n",
    "rows = csr.fetchmany(2)\n",
    "rows"
   ]
  },
  {
   "cell_type": "code",
   "execution_count": 55,
   "metadata": {},
   "outputs": [
    {
     "data": {
      "text/plain": [
       "[(4, 'Bruce', 'Lee'), (5, 'Bob', 'Marley')]"
      ]
     },
     "execution_count": 55,
     "metadata": {},
     "output_type": "execute_result"
    }
   ],
   "source": [
    "csr.execute(\"\"\"SELECT ID, FirstName, LastName \n",
    "            FROM TestA\"\"\")\n",
    "rows = csr.fetchmany(2) # csr.execute sorgusunu yeniden çalıştırdığımız için aynı değer, verir\n",
    "rows"
   ]
  },
  {
   "cell_type": "code",
   "execution_count": 56,
   "metadata": {},
   "outputs": [
    {
     "data": {
      "text/plain": [
       "[(4, 'Bruce', 'Lee'), (5, 'Bob', 'Marley'), (6, 'Bob', 'Marley')]"
      ]
     },
     "execution_count": 56,
     "metadata": {},
     "output_type": "execute_result"
    }
   ],
   "source": [
    "csr.execute(\"\"\"SELECT ID, FirstName, LastName \n",
    "            FROM TestA\"\"\")\n",
    "rows = csr.fetchmany(3)\n",
    "rows"
   ]
  },
  {
   "cell_type": "code",
   "execution_count": 57,
   "metadata": {},
   "outputs": [
    {
     "data": {
      "text/plain": [
       "[(7, 'Mel', 'Gibson')]"
      ]
     },
     "execution_count": 57,
     "metadata": {},
     "output_type": "execute_result"
    }
   ],
   "source": [
    "rows = csr.fetchmany(1) # csr.execute sorgusunu çalıştırmadığımız için cursor kaldığı yerden sonra istenilen kadar verdi.\n",
    "rows"
   ]
  },
  {
   "cell_type": "code",
   "execution_count": 58,
   "metadata": {},
   "outputs": [],
   "source": [
    "def read_query(conn, query):\n",
    "    csr = conn.cursor()\n",
    "    results = None\n",
    "    csr.execute(query)\n",
    "    results = csr.fetchall()\n",
    "    csr.close()\n",
    "    del csr\n",
    "    return results"
   ]
  },
  {
   "cell_type": "code",
   "execution_count": null,
   "metadata": {},
   "outputs": [],
   "source": [
    "query = \"\"\"SELECT ID, FirstName, LastName FROM TestA\"\"\"\n",
    "results = read_query(conn, query)"
   ]
  },
  {
   "cell_type": "code",
   "execution_count": 60,
   "metadata": {},
   "outputs": [
    {
     "data": {
      "text/plain": [
       "[(8, 'Aaaa', 'Bbbb'), (9, 'Bruce', 'Lee')]"
      ]
     },
     "execution_count": 60,
     "metadata": {},
     "output_type": "execute_result"
    }
   ],
   "source": [
    "rows = csr.fetchmany(2)\n",
    "rows"
   ]
  },
  {
   "cell_type": "code",
   "execution_count": 64,
   "metadata": {},
   "outputs": [],
   "source": [
    "conn.close()"
   ]
  },
  {
   "cell_type": "code",
   "execution_count": 35,
   "metadata": {},
   "outputs": [
    {
     "data": {
      "text/plain": [
       "[(4, 'Bruce', 'Lee'),\n",
       " (5, 'Bob', 'Marley'),\n",
       " (6, 'Bob', 'Marley'),\n",
       " (7, 'Mel', 'Gibson'),\n",
       " (8, 'Aaaa', 'Bbbb'),\n",
       " (9, 'Bruce', 'Lee'),\n",
       " (10, 'Bob', 'Marley'),\n",
       " (11, 'Mel', 'Gibson'),\n",
       " (12, 'Aaaa', 'Bbbb'),\n",
       " (13, 'Bruce', 'Lee'),\n",
       " (14, 'Bob', 'Marley'),\n",
       " (15, 'Mel', 'Gibson'),\n",
       " (16, 'Aaaa', 'Bbbb'),\n",
       " (17, 'Bruce', 'Lee'),\n",
       " (18, 'Bob', 'Marley'),\n",
       " (19, 'Mel', 'Gibson'),\n",
       " (20, 'Tom', 'Cat'),\n",
       " (21, 'Jerry', 'Mouse'),\n",
       " (22, 'Stefan', 'Müller'),\n",
       " (23, 'Dennis', 'Bergkamp')]"
      ]
     },
     "execution_count": 35,
     "metadata": {},
     "output_type": "execute_result"
    }
   ],
   "source": [
    "results"
   ]
  },
  {
   "cell_type": "code",
   "execution_count": 73,
   "metadata": {},
   "outputs": [],
   "source": [
    "csr = conn.cursor()"
   ]
  },
  {
   "cell_type": "code",
   "execution_count": 66,
   "metadata": {},
   "outputs": [],
   "source": [
    "df_old = pd.DataFrame(results)"
   ]
  },
  {
   "cell_type": "code",
   "execution_count": 67,
   "metadata": {},
   "outputs": [
    {
     "data": {
      "text/html": [
       "<div>\n",
       "<style scoped>\n",
       "    .dataframe tbody tr th:only-of-type {\n",
       "        vertical-align: middle;\n",
       "    }\n",
       "\n",
       "    .dataframe tbody tr th {\n",
       "        vertical-align: top;\n",
       "    }\n",
       "\n",
       "    .dataframe thead th {\n",
       "        text-align: right;\n",
       "    }\n",
       "</style>\n",
       "<table border=\"1\" class=\"dataframe\">\n",
       "  <thead>\n",
       "    <tr style=\"text-align: right;\">\n",
       "      <th></th>\n",
       "      <th>0</th>\n",
       "    </tr>\n",
       "  </thead>\n",
       "  <tbody>\n",
       "    <tr>\n",
       "      <th>0</th>\n",
       "      <td>[4, Bruce, Lee]</td>\n",
       "    </tr>\n",
       "    <tr>\n",
       "      <th>1</th>\n",
       "      <td>[5, Bob, Marley]</td>\n",
       "    </tr>\n",
       "    <tr>\n",
       "      <th>2</th>\n",
       "      <td>[6, Bob, Marley]</td>\n",
       "    </tr>\n",
       "    <tr>\n",
       "      <th>3</th>\n",
       "      <td>[7, Mel, Gibson]</td>\n",
       "    </tr>\n",
       "    <tr>\n",
       "      <th>4</th>\n",
       "      <td>[8, Aaaa, Bbbb]</td>\n",
       "    </tr>\n",
       "    <tr>\n",
       "      <th>5</th>\n",
       "      <td>[9, Bruce, Lee]</td>\n",
       "    </tr>\n",
       "    <tr>\n",
       "      <th>6</th>\n",
       "      <td>[10, Bob, Marley]</td>\n",
       "    </tr>\n",
       "    <tr>\n",
       "      <th>7</th>\n",
       "      <td>[11, Mel, Gibson]</td>\n",
       "    </tr>\n",
       "    <tr>\n",
       "      <th>8</th>\n",
       "      <td>[12, Aaaa, Bbbb]</td>\n",
       "    </tr>\n",
       "    <tr>\n",
       "      <th>9</th>\n",
       "      <td>[13, Bruce, Lee]</td>\n",
       "    </tr>\n",
       "    <tr>\n",
       "      <th>10</th>\n",
       "      <td>[14, Bob, Marley]</td>\n",
       "    </tr>\n",
       "    <tr>\n",
       "      <th>11</th>\n",
       "      <td>[15, Mel, Gibson]</td>\n",
       "    </tr>\n",
       "    <tr>\n",
       "      <th>12</th>\n",
       "      <td>[16, Aaaa, Bbbb]</td>\n",
       "    </tr>\n",
       "    <tr>\n",
       "      <th>13</th>\n",
       "      <td>[17, Bruce, Lee]</td>\n",
       "    </tr>\n",
       "    <tr>\n",
       "      <th>14</th>\n",
       "      <td>[18, Bob, Marley]</td>\n",
       "    </tr>\n",
       "    <tr>\n",
       "      <th>15</th>\n",
       "      <td>[19, Mel, Gibson]</td>\n",
       "    </tr>\n",
       "    <tr>\n",
       "      <th>16</th>\n",
       "      <td>[20, Tom, Cat]</td>\n",
       "    </tr>\n",
       "    <tr>\n",
       "      <th>17</th>\n",
       "      <td>[21, Jerry, Mouse]</td>\n",
       "    </tr>\n",
       "    <tr>\n",
       "      <th>18</th>\n",
       "      <td>[22, Stefan, Müller]</td>\n",
       "    </tr>\n",
       "    <tr>\n",
       "      <th>19</th>\n",
       "      <td>[23, Dennis, Bergkamp]</td>\n",
       "    </tr>\n",
       "  </tbody>\n",
       "</table>\n",
       "</div>"
      ],
      "text/plain": [
       "                         0\n",
       "0          [4, Bruce, Lee]\n",
       "1         [5, Bob, Marley]\n",
       "2         [6, Bob, Marley]\n",
       "3         [7, Mel, Gibson]\n",
       "4          [8, Aaaa, Bbbb]\n",
       "5          [9, Bruce, Lee]\n",
       "6        [10, Bob, Marley]\n",
       "7        [11, Mel, Gibson]\n",
       "8         [12, Aaaa, Bbbb]\n",
       "9         [13, Bruce, Lee]\n",
       "10       [14, Bob, Marley]\n",
       "11       [15, Mel, Gibson]\n",
       "12        [16, Aaaa, Bbbb]\n",
       "13        [17, Bruce, Lee]\n",
       "14       [18, Bob, Marley]\n",
       "15       [19, Mel, Gibson]\n",
       "16          [20, Tom, Cat]\n",
       "17      [21, Jerry, Mouse]\n",
       "18    [22, Stefan, Müller]\n",
       "19  [23, Dennis, Bergkamp]"
      ]
     },
     "execution_count": 67,
     "metadata": {},
     "output_type": "execute_result"
    }
   ],
   "source": [
    "df_old"
   ]
  },
  {
   "cell_type": "code",
   "execution_count": 69,
   "metadata": {},
   "outputs": [],
   "source": [
    "from_db = []\n",
    "for result in results:\n",
    "    result = list(result)\n",
    "    from_db.append(result)"
   ]
  },
  {
   "cell_type": "code",
   "execution_count": 70,
   "metadata": {},
   "outputs": [
    {
     "data": {
      "text/plain": [
       "[[4, 'Bruce', 'Lee'],\n",
       " [5, 'Bob', 'Marley'],\n",
       " [6, 'Bob', 'Marley'],\n",
       " [7, 'Mel', 'Gibson'],\n",
       " [8, 'Aaaa', 'Bbbb'],\n",
       " [9, 'Bruce', 'Lee'],\n",
       " [10, 'Bob', 'Marley'],\n",
       " [11, 'Mel', 'Gibson'],\n",
       " [12, 'Aaaa', 'Bbbb'],\n",
       " [13, 'Bruce', 'Lee'],\n",
       " [14, 'Bob', 'Marley'],\n",
       " [15, 'Mel', 'Gibson'],\n",
       " [16, 'Aaaa', 'Bbbb'],\n",
       " [17, 'Bruce', 'Lee'],\n",
       " [18, 'Bob', 'Marley'],\n",
       " [19, 'Mel', 'Gibson'],\n",
       " [20, 'Tom', 'Cat'],\n",
       " [21, 'Jerry', 'Mouse'],\n",
       " [22, 'Stefan', 'Müller'],\n",
       " [23, 'Dennis', 'Bergkamp']]"
      ]
     },
     "execution_count": 70,
     "metadata": {},
     "output_type": "execute_result"
    }
   ],
   "source": [
    "from_db"
   ]
  },
  {
   "cell_type": "code",
   "execution_count": 71,
   "metadata": {},
   "outputs": [
    {
     "data": {
      "text/html": [
       "<div>\n",
       "<style scoped>\n",
       "    .dataframe tbody tr th:only-of-type {\n",
       "        vertical-align: middle;\n",
       "    }\n",
       "\n",
       "    .dataframe tbody tr th {\n",
       "        vertical-align: top;\n",
       "    }\n",
       "\n",
       "    .dataframe thead th {\n",
       "        text-align: right;\n",
       "    }\n",
       "</style>\n",
       "<table border=\"1\" class=\"dataframe\">\n",
       "  <thead>\n",
       "    <tr style=\"text-align: right;\">\n",
       "      <th></th>\n",
       "      <th>ID</th>\n",
       "      <th>FirstName</th>\n",
       "      <th>LastName</th>\n",
       "    </tr>\n",
       "  </thead>\n",
       "  <tbody>\n",
       "    <tr>\n",
       "      <th>0</th>\n",
       "      <td>4</td>\n",
       "      <td>Bruce</td>\n",
       "      <td>Lee</td>\n",
       "    </tr>\n",
       "    <tr>\n",
       "      <th>1</th>\n",
       "      <td>5</td>\n",
       "      <td>Bob</td>\n",
       "      <td>Marley</td>\n",
       "    </tr>\n",
       "    <tr>\n",
       "      <th>2</th>\n",
       "      <td>6</td>\n",
       "      <td>Bob</td>\n",
       "      <td>Marley</td>\n",
       "    </tr>\n",
       "    <tr>\n",
       "      <th>3</th>\n",
       "      <td>7</td>\n",
       "      <td>Mel</td>\n",
       "      <td>Gibson</td>\n",
       "    </tr>\n",
       "    <tr>\n",
       "      <th>4</th>\n",
       "      <td>8</td>\n",
       "      <td>Aaaa</td>\n",
       "      <td>Bbbb</td>\n",
       "    </tr>\n",
       "    <tr>\n",
       "      <th>5</th>\n",
       "      <td>9</td>\n",
       "      <td>Bruce</td>\n",
       "      <td>Lee</td>\n",
       "    </tr>\n",
       "    <tr>\n",
       "      <th>6</th>\n",
       "      <td>10</td>\n",
       "      <td>Bob</td>\n",
       "      <td>Marley</td>\n",
       "    </tr>\n",
       "    <tr>\n",
       "      <th>7</th>\n",
       "      <td>11</td>\n",
       "      <td>Mel</td>\n",
       "      <td>Gibson</td>\n",
       "    </tr>\n",
       "    <tr>\n",
       "      <th>8</th>\n",
       "      <td>12</td>\n",
       "      <td>Aaaa</td>\n",
       "      <td>Bbbb</td>\n",
       "    </tr>\n",
       "    <tr>\n",
       "      <th>9</th>\n",
       "      <td>13</td>\n",
       "      <td>Bruce</td>\n",
       "      <td>Lee</td>\n",
       "    </tr>\n",
       "    <tr>\n",
       "      <th>10</th>\n",
       "      <td>14</td>\n",
       "      <td>Bob</td>\n",
       "      <td>Marley</td>\n",
       "    </tr>\n",
       "    <tr>\n",
       "      <th>11</th>\n",
       "      <td>15</td>\n",
       "      <td>Mel</td>\n",
       "      <td>Gibson</td>\n",
       "    </tr>\n",
       "    <tr>\n",
       "      <th>12</th>\n",
       "      <td>16</td>\n",
       "      <td>Aaaa</td>\n",
       "      <td>Bbbb</td>\n",
       "    </tr>\n",
       "    <tr>\n",
       "      <th>13</th>\n",
       "      <td>17</td>\n",
       "      <td>Bruce</td>\n",
       "      <td>Lee</td>\n",
       "    </tr>\n",
       "    <tr>\n",
       "      <th>14</th>\n",
       "      <td>18</td>\n",
       "      <td>Bob</td>\n",
       "      <td>Marley</td>\n",
       "    </tr>\n",
       "    <tr>\n",
       "      <th>15</th>\n",
       "      <td>19</td>\n",
       "      <td>Mel</td>\n",
       "      <td>Gibson</td>\n",
       "    </tr>\n",
       "    <tr>\n",
       "      <th>16</th>\n",
       "      <td>20</td>\n",
       "      <td>Tom</td>\n",
       "      <td>Cat</td>\n",
       "    </tr>\n",
       "    <tr>\n",
       "      <th>17</th>\n",
       "      <td>21</td>\n",
       "      <td>Jerry</td>\n",
       "      <td>Mouse</td>\n",
       "    </tr>\n",
       "    <tr>\n",
       "      <th>18</th>\n",
       "      <td>22</td>\n",
       "      <td>Stefan</td>\n",
       "      <td>Müller</td>\n",
       "    </tr>\n",
       "    <tr>\n",
       "      <th>19</th>\n",
       "      <td>23</td>\n",
       "      <td>Dennis</td>\n",
       "      <td>Bergkamp</td>\n",
       "    </tr>\n",
       "  </tbody>\n",
       "</table>\n",
       "</div>"
      ],
      "text/plain": [
       "    ID FirstName  LastName\n",
       "0    4     Bruce       Lee\n",
       "1    5       Bob    Marley\n",
       "2    6       Bob    Marley\n",
       "3    7       Mel    Gibson\n",
       "4    8      Aaaa      Bbbb\n",
       "5    9     Bruce       Lee\n",
       "6   10       Bob    Marley\n",
       "7   11       Mel    Gibson\n",
       "8   12      Aaaa      Bbbb\n",
       "9   13     Bruce       Lee\n",
       "10  14       Bob    Marley\n",
       "11  15       Mel    Gibson\n",
       "12  16      Aaaa      Bbbb\n",
       "13  17     Bruce       Lee\n",
       "14  18       Bob    Marley\n",
       "15  19       Mel    Gibson\n",
       "16  20       Tom       Cat\n",
       "17  21     Jerry     Mouse\n",
       "18  22    Stefan    Müller\n",
       "19  23    Dennis  Bergkamp"
      ]
     },
     "execution_count": 71,
     "metadata": {},
     "output_type": "execute_result"
    }
   ],
   "source": [
    "columns = ['ID', 'FirstName', 'LastName']\n",
    "df = pd.DataFrame(from_db, columns=columns)\n",
    "df"
   ]
  },
  {
   "cell_type": "code",
   "execution_count": 72,
   "metadata": {},
   "outputs": [],
   "source": [
    "csr = conn.cursor()"
   ]
  },
  {
   "cell_type": "code",
   "execution_count": null,
   "metadata": {},
   "outputs": [],
   "source": [
    "csr.execute(\"select FirstName, LastName from TestA\").fetchone()"
   ]
  },
  {
   "cell_type": "code",
   "execution_count": null,
   "metadata": {},
   "outputs": [],
   "source": [
    "csr.execute(\"select FirstName, LastName from TestA\").fetchall()"
   ]
  },
  {
   "cell_type": "code",
   "execution_count": null,
   "metadata": {},
   "outputs": [],
   "source": [
    "csr.execute(\"select FirstName, LastName from TestA\").fetchval()"
   ]
  }
 ],
 "metadata": {
  "kernelspec": {
   "display_name": "Python 3",
   "language": "python",
   "name": "python3"
  },
  "language_info": {
   "codemirror_mode": {
    "name": "ipython",
    "version": 3
   },
   "file_extension": ".py",
   "mimetype": "text/x-python",
   "name": "python",
   "nbconvert_exporter": "python",
   "pygments_lexer": "ipython3",
   "version": "3.8.5"
  }
 },
 "nbformat": 4,
 "nbformat_minor": 4
}
