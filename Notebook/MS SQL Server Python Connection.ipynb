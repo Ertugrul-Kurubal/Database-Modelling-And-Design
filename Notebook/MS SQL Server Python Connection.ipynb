{
 "cells": [
  {
   "cell_type": "code",
   "execution_count": 1,
   "metadata": {},
   "outputs": [
    {
     "name": "stdout",
     "output_type": "stream",
     "text": [
      "Requirement already satisfied: pyodbc in c:\\users\\e_kur\\anaconda3\\lib\\site-packages (4.0.0-unsupported)\n",
      "Note: you may need to restart the kernel to use updated packages.\n"
     ]
    }
   ],
   "source": [
    "pip install pyodbc"
   ]
  },
  {
   "cell_type": "code",
   "execution_count": 1,
   "metadata": {},
   "outputs": [],
   "source": [
    "import pyodbc\n",
    "import pandas as pd"
   ]
  },
  {
   "cell_type": "code",
   "execution_count": 2,
   "metadata": {},
   "outputs": [],
   "source": [
    "def create_server_connection(driver, server, database, user, password):\n",
    "    conn = None\n",
    "    try:\n",
    "        conn = pyodbc.connect(DRIVER = driver, SERVER = server, DATABASE = database, UID = user, PWD = password)\n",
    "        print(\"MS SQL Server Database connection successful\")\n",
    "    except Error as err:\n",
    "        print(f\"Error: '{err}'\")\n",
    "    return conn"
   ]
  },
  {
   "cell_type": "code",
   "execution_count": 63,
   "metadata": {},
   "outputs": [
    {
     "output_type": "stream",
     "name": "stdout",
     "text": [
      "MS SQL Server Database connection successful\n"
     ]
    }
   ],
   "source": [
    "driver = '{ODBC Driver 17 for SQL Server}'\n",
    "server = 'VAIO'\n",
    "database = 'master'\n",
    "user = 'sa'\n",
    "password = '14531453'\n",
    "conn = create_server_connection(driver, server, database, user, password)"
   ]
  },
  {
   "cell_type": "code",
   "execution_count": 4,
   "metadata": {},
   "outputs": [],
   "source": [
    "conn.autocommit = True"
   ]
  },
  {
   "cell_type": "code",
   "execution_count": 14,
   "metadata": {},
   "outputs": [],
   "source": [
    "def create_database(conn, create_database_query):\n",
    "    csr = conn.cursor()\n",
    "    try:\n",
    "        csr.execute(create_database_query)\n",
    "        print(\"Database created successfully\")\n",
    "    except Error as err:\n",
    "        print(f\"Error: '{err}'\")"
   ]
  },
  {
   "cell_type": "code",
   "execution_count": 13,
   "metadata": {},
   "outputs": [
    {
     "name": "stdout",
     "output_type": "stream",
     "text": [
      "Database created successfully\n"
     ]
    }
   ],
   "source": [
    "create_database_query = 'CREATE DATABASE Test_DB'\n",
    "create_database(conn, create_database_query)"
   ]
  },
  {
   "cell_type": "code",
   "execution_count": 15,
   "metadata": {},
   "outputs": [],
   "source": [
    "def execute_query(conn, query):\n",
    "    csr = conn.cursor()\n",
    "    try:\n",
    "        csr.execute(query)\n",
    "        conn.commit()\n",
    "        print(\"Query successful\")\n",
    "    \n",
    "    except Error as err:\n",
    "        print(f\"Error: '{err}'\")"
   ]
  },
  {
   "cell_type": "code",
   "execution_count": 8,
   "metadata": {},
   "outputs": [],
   "source": [
    "query ='USE Test_DB'"
   ]
  },
  {
   "cell_type": "code",
   "execution_count": 16,
   "metadata": {},
   "outputs": [
    {
     "output_type": "stream",
     "name": "stdout",
     "text": [
      "Query successful\n"
     ]
    }
   ],
   "source": [
    "execute_query(conn, query)"
   ]
  },
  {
   "cell_type": "code",
   "execution_count": 46,
   "metadata": {},
   "outputs": [
    {
     "name": "stdout",
     "output_type": "stream",
     "text": [
      "Query successful\n"
     ]
    }
   ],
   "source": [
    "query = 'CREATE TABLE TestA ( \\\n",
    "             ID int IDENTITY(1,1) NOT NULL, \\\n",
    "             FirstName varchar(255) NOT NULL, \\\n",
    "             LastName varchar(255) NOT NULL, \\\n",
    "             PRIMARY KEY(ID))'\n",
    "execute_query(conn, query)"
   ]
  },
  {
   "cell_type": "code",
   "execution_count": 17,
   "metadata": {},
   "outputs": [],
   "source": [
    "csr = conn.cursor()"
   ]
  },
  {
   "cell_type": "code",
   "execution_count": 27,
   "metadata": {},
   "outputs": [],
   "source": [
    "csr.execute(\"INSERT TestA (FirstName, LastName) VALUES ('Aaaa', 'Bbbb')\")\n",
    "conn.commit()"
   ]
  },
  {
   "cell_type": "code",
   "execution_count": 28,
   "metadata": {},
   "outputs": [],
   "source": [
    "csr.execute(\"INSERT TestA (FirstName, LastName) VALUES ('Bruce', 'Lee')\")\n",
    "conn.commit()"
   ]
  },
  {
   "cell_type": "code",
   "execution_count": 29,
   "metadata": {},
   "outputs": [],
   "source": [
    "csr.execute(\"INSERT TestA (FirstName, LastName) VALUES ('Bob', 'Marley')\")\n",
    "conn.commit()"
   ]
  },
  {
   "cell_type": "code",
   "execution_count": 30,
   "metadata": {},
   "outputs": [],
   "source": [
    "csr.execute(\"INSERT TestA (FirstName, LastName) VALUES ('Mel', 'Gibson')\")\n",
    "conn.commit()"
   ]
  },
  {
   "cell_type": "code",
   "execution_count": 31,
   "metadata": {},
   "outputs": [
    {
     "output_type": "execute_result",
     "data": {
      "text/plain": [
       "<pyodbc.Cursor at 0x2b1182a9630>"
      ]
     },
     "metadata": {},
     "execution_count": 31
    }
   ],
   "source": [
    "csr.execute(\"INSERT TestA (FirstName, LastName) VALUES (?, ?)\", 'Tom', 'Cat')\n",
    "csr.execute(\"INSERT TestA (FirstName, LastName) VALUES (?, ?)\", 'Jerry', 'Mouse')\n",
    "csr.execute(\"INSERT TestA (FirstName, LastName) VALUES (?, ?)\", 'Stefan', 'Müller')\n",
    "csr.execute(\"INSERT TestA (FirstName, LastName) VALUES (?, ?)\", 'Dennis', 'Bergkamp')"
   ]
  },
  {
   "cell_type": "code",
   "execution_count": 54,
   "metadata": {},
   "outputs": [
    {
     "data": {
      "text/plain": [
       "<pyodbc.Cursor at 0x1ac61e38830>"
      ]
     },
     "execution_count": 54,
     "metadata": {},
     "output_type": "execute_result"
    }
   ],
   "source": [
    "csr.execute(\"delete from TestA where FirstName = ?\", 'Aaaa')"
   ]
  },
  {
   "cell_type": "code",
   "execution_count": 14,
   "metadata": {},
   "outputs": [],
   "source": [
    "conn.commit()"
   ]
  },
  {
   "cell_type": "code",
   "execution_count": 37,
   "metadata": {},
   "outputs": [
    {
     "output_type": "stream",
     "name": "stdout",
     "text": [
      "1 row(s) deleted\n"
     ]
    }
   ],
   "source": [
    "print(csr.rowcount, 'row(s) deleted')"
   ]
  },
  {
   "cell_type": "code",
   "execution_count": 38,
   "metadata": {},
   "outputs": [],
   "source": [
    "deleted = csr.execute(\"delete from TestA where FirstName = 'Cccc'\").rowcount"
   ]
  },
  {
   "cell_type": "code",
   "execution_count": 39,
   "metadata": {},
   "outputs": [],
   "source": [
    "conn.commit()"
   ]
  },
  {
   "cell_type": "code",
   "execution_count": 40,
   "metadata": {},
   "outputs": [
    {
     "output_type": "stream",
     "name": "stdout",
     "text": [
      "0 row(s) deleted\n"
     ]
    }
   ],
   "source": [
    "print(deleted, 'row(s) deleted')"
   ]
  },
  {
   "cell_type": "code",
   "execution_count": 41,
   "metadata": {},
   "outputs": [
    {
     "output_type": "stream",
     "name": "stdout",
     "text": [
      "('Bruce', 'Lee')\n"
     ]
    }
   ],
   "source": [
    "csr = conn.cursor()\n",
    "csr.execute('SELECT FirstName, LastName FROM TestA')\n",
    "row = csr.fetchone()\n",
    "if row:\n",
    "    print(row)"
   ]
  },
  {
   "cell_type": "code",
   "execution_count": 42,
   "metadata": {},
   "outputs": [
    {
     "output_type": "execute_result",
     "data": {
      "text/plain": [
       "'Bruce'"
      ]
     },
     "metadata": {},
     "execution_count": 42
    }
   ],
   "source": [
    "row.FirstName"
   ]
  },
  {
   "cell_type": "code",
   "execution_count": 43,
   "metadata": {},
   "outputs": [
    {
     "output_type": "execute_result",
     "data": {
      "text/plain": [
       "'Lee'"
      ]
     },
     "metadata": {},
     "execution_count": 43
    }
   ],
   "source": [
    "row.LastName"
   ]
  },
  {
   "cell_type": "code",
   "execution_count": 44,
   "metadata": {},
   "outputs": [
    {
     "output_type": "stream",
     "name": "stdout",
     "text": [
      "LastName:  Lee\n"
     ]
    }
   ],
   "source": [
    "print(\"LastName: \", row.LastName)"
   ]
  },
  {
   "cell_type": "code",
   "execution_count": 45,
   "metadata": {},
   "outputs": [
    {
     "output_type": "stream",
     "name": "stdout",
     "text": [
      "FirstName: Bruce\nFirstName: Bob\nFirstName: Bob\nFirstName: Mel\nFirstName: Aaaa\nFirstName: Bruce\nFirstName: Bob\nFirstName: Mel\nFirstName: Aaaa\nFirstName: Bruce\nFirstName: Bob\nFirstName: Mel\nFirstName: Aaaa\nFirstName: Bruce\nFirstName: Bob\nFirstName: Mel\nFirstName: Tom\nFirstName: Jerry\nFirstName: Stefan\nFirstName: Dennis\n"
     ]
    }
   ],
   "source": [
    "csr.execute('SELECT FirstName, LastName FROM TestA')\n",
    "while True:\n",
    "    row = csr.fetchone()\n",
    "    if not row:\n",
    "        break\n",
    "    print('FirstName:', row.FirstName)"
   ]
  },
  {
   "cell_type": "code",
   "execution_count": 46,
   "metadata": {},
   "outputs": [
    {
     "output_type": "stream",
     "name": "stdout",
     "text": [
      "4 Bruce Lee\n5 Bob Marley\n6 Bob Marley\n7 Mel Gibson\n8 Aaaa Bbbb\n9 Bruce Lee\n10 Bob Marley\n11 Mel Gibson\n12 Aaaa Bbbb\n13 Bruce Lee\n14 Bob Marley\n15 Mel Gibson\n16 Aaaa Bbbb\n17 Bruce Lee\n18 Bob Marley\n19 Mel Gibson\n20 Tom Cat\n21 Jerry Mouse\n22 Stefan Müller\n23 Dennis Bergkamp\n"
     ]
    }
   ],
   "source": [
    "csr.execute('SELECT ID, FirstName, LastName FROM TestA')\n",
    "while True:\n",
    "    row = csr.fetchone()\n",
    "    if not row:\n",
    "        break\n",
    "    print(row.ID,row.FirstName,row.LastName)"
   ]
  },
  {
   "cell_type": "code",
   "execution_count": 47,
   "metadata": {},
   "outputs": [
    {
     "output_type": "execute_result",
     "data": {
      "text/plain": [
       "[(4, 'Bruce', 'Lee'),\n",
       " (5, 'Bob', 'Marley'),\n",
       " (6, 'Bob', 'Marley'),\n",
       " (7, 'Mel', 'Gibson'),\n",
       " (8, 'Aaaa', 'Bbbb'),\n",
       " (9, 'Bruce', 'Lee'),\n",
       " (10, 'Bob', 'Marley'),\n",
       " (11, 'Mel', 'Gibson'),\n",
       " (12, 'Aaaa', 'Bbbb'),\n",
       " (13, 'Bruce', 'Lee'),\n",
       " (14, 'Bob', 'Marley'),\n",
       " (15, 'Mel', 'Gibson'),\n",
       " (16, 'Aaaa', 'Bbbb'),\n",
       " (17, 'Bruce', 'Lee'),\n",
       " (18, 'Bob', 'Marley'),\n",
       " (19, 'Mel', 'Gibson'),\n",
       " (20, 'Tom', 'Cat'),\n",
       " (21, 'Jerry', 'Mouse'),\n",
       " (22, 'Stefan', 'Müller'),\n",
       " (23, 'Dennis', 'Bergkamp')]"
      ]
     },
     "metadata": {},
     "execution_count": 47
    }
   ],
   "source": [
    "csr.execute('SELECT ID, FirstName, LastName FROM TestA')\n",
    "rows = csr.fetchall()\n",
    "rows"
   ]
  },
  {
   "cell_type": "code",
   "execution_count": 48,
   "metadata": {},
   "outputs": [
    {
     "output_type": "execute_result",
     "data": {
      "text/plain": [
       "[(4, 'Bruce', 'Lee'),\n",
       " (5, 'Bob', 'Marley'),\n",
       " (6, 'Bob', 'Marley'),\n",
       " (7, 'Mel', 'Gibson'),\n",
       " (8, 'Aaaa', 'Bbbb'),\n",
       " (9, 'Bruce', 'Lee'),\n",
       " (10, 'Bob', 'Marley'),\n",
       " (11, 'Mel', 'Gibson'),\n",
       " (12, 'Aaaa', 'Bbbb'),\n",
       " (13, 'Bruce', 'Lee'),\n",
       " (14, 'Bob', 'Marley'),\n",
       " (15, 'Mel', 'Gibson'),\n",
       " (16, 'Aaaa', 'Bbbb'),\n",
       " (17, 'Bruce', 'Lee'),\n",
       " (18, 'Bob', 'Marley'),\n",
       " (19, 'Mel', 'Gibson'),\n",
       " (20, 'Tom', 'Cat'),\n",
       " (21, 'Jerry', 'Mouse'),\n",
       " (22, 'Stefan', 'Müller'),\n",
       " (23, 'Dennis', 'Bergkamp')]"
      ]
     },
     "metadata": {},
     "execution_count": 48
    }
   ],
   "source": [
    "csr.execute(\"\"\"SELECT ID, FirstName, LastName \n",
    "            FROM TestA\"\"\")\n",
    "rows = csr.fetchall()\n",
    "rows"
   ]
  },
  {
   "cell_type": "code",
   "execution_count": 49,
   "metadata": {},
   "outputs": [
    {
     "output_type": "stream",
     "name": "stdout",
     "text": [
      "4 Bruce Lee\n5 Bob Marley\n6 Bob Marley\n7 Mel Gibson\n8 Aaaa Bbbb\n9 Bruce Lee\n10 Bob Marley\n11 Mel Gibson\n12 Aaaa Bbbb\n13 Bruce Lee\n14 Bob Marley\n15 Mel Gibson\n16 Aaaa Bbbb\n17 Bruce Lee\n18 Bob Marley\n19 Mel Gibson\n20 Tom Cat\n21 Jerry Mouse\n22 Stefan Müller\n23 Dennis Bergkamp\n"
     ]
    }
   ],
   "source": [
    "for row in rows:\n",
    "    print(row.ID,row.FirstName,row.LastName)"
   ]
  },
  {
   "cell_type": "code",
   "execution_count": 50,
   "metadata": {},
   "outputs": [
    {
     "output_type": "execute_result",
     "data": {
      "text/plain": [
       "list"
      ]
     },
     "metadata": {},
     "execution_count": 50
    }
   ],
   "source": [
    "type(rows)"
   ]
  },
  {
   "cell_type": "code",
   "execution_count": 51,
   "metadata": {},
   "outputs": [
    {
     "output_type": "execute_result",
     "data": {
      "text/plain": [
       "[(7, 'Mel', 'Gibson'),\n",
       " (11, 'Mel', 'Gibson'),\n",
       " (15, 'Mel', 'Gibson'),\n",
       " (19, 'Mel', 'Gibson')]"
      ]
     },
     "metadata": {},
     "execution_count": 51
    }
   ],
   "source": [
    "csr.execute(\"\"\"SELECT ID, FirstName, LastName \n",
    "            FROM TestA\n",
    "            WHERE FirstName = ? and LastName = ?\"\"\",['Mel','Gibson'])\n",
    "rows = csr.fetchall()\n",
    "rows"
   ]
  },
  {
   "cell_type": "code",
   "execution_count": 52,
   "metadata": {},
   "outputs": [
    {
     "output_type": "execute_result",
     "data": {
      "text/plain": [
       "[(7, 'Mel', 'Gibson'),\n",
       " (11, 'Mel', 'Gibson'),\n",
       " (15, 'Mel', 'Gibson'),\n",
       " (19, 'Mel', 'Gibson')]"
      ]
     },
     "metadata": {},
     "execution_count": 52
    }
   ],
   "source": [
    "csr.execute(\"\"\"SELECT ID, FirstName, LastName \n",
    "            FROM TestA\n",
    "            WHERE FirstName = ? and LastName = ?\"\"\",['Mel','Gibson'])\n",
    "rows = csr.fetchmany(4)\n",
    "rows"
   ]
  },
  {
   "cell_type": "code",
   "execution_count": 53,
   "metadata": {},
   "outputs": [
    {
     "output_type": "execute_result",
     "data": {
      "text/plain": [
       "[(7, 'Mel', 'Gibson')]"
      ]
     },
     "metadata": {},
     "execution_count": 53
    }
   ],
   "source": [
    "csr.execute(\"\"\"SELECT ID, FirstName, LastName \n",
    "            FROM TestA\n",
    "            WHERE FirstName = ? and LastName = ?\"\"\",['Mel','Gibson'])\n",
    "rows = csr.fetchmany(1)\n",
    "rows"
   ]
  },
  {
   "cell_type": "code",
   "execution_count": 54,
   "metadata": {},
   "outputs": [
    {
     "output_type": "execute_result",
     "data": {
      "text/plain": [
       "[(4, 'Bruce', 'Lee'), (5, 'Bob', 'Marley')]"
      ]
     },
     "metadata": {},
     "execution_count": 54
    }
   ],
   "source": [
    "csr.execute(\"\"\"SELECT ID, FirstName, LastName \n",
    "            FROM TestA\"\"\")\n",
    "rows = csr.fetchmany(2)\n",
    "rows"
   ]
  },
  {
   "cell_type": "code",
   "execution_count": 55,
   "metadata": {},
   "outputs": [
    {
     "output_type": "execute_result",
     "data": {
      "text/plain": [
       "[(4, 'Bruce', 'Lee'), (5, 'Bob', 'Marley')]"
      ]
     },
     "metadata": {},
     "execution_count": 55
    }
   ],
   "source": [
    "csr.execute(\"\"\"SELECT ID, FirstName, LastName \n",
    "            FROM TestA\"\"\")\n",
    "rows = csr.fetchmany(2) # csr.execute sorgusunu yeniden çalıştırdığımız için aynı değer, verir\n",
    "rows"
   ]
  },
  {
   "cell_type": "code",
   "execution_count": 56,
   "metadata": {},
   "outputs": [
    {
     "output_type": "execute_result",
     "data": {
      "text/plain": [
       "[(4, 'Bruce', 'Lee'), (5, 'Bob', 'Marley'), (6, 'Bob', 'Marley')]"
      ]
     },
     "metadata": {},
     "execution_count": 56
    }
   ],
   "source": [
    "csr.execute(\"\"\"SELECT ID, FirstName, LastName \n",
    "            FROM TestA\"\"\")\n",
    "rows = csr.fetchmany(3)\n",
    "rows"
   ]
  },
  {
   "cell_type": "code",
   "execution_count": 57,
   "metadata": {},
   "outputs": [
    {
     "output_type": "execute_result",
     "data": {
      "text/plain": [
       "[(7, 'Mel', 'Gibson')]"
      ]
     },
     "metadata": {},
     "execution_count": 57
    }
   ],
   "source": [
    "rows = csr.fetchmany(1) # csr.execute sorgusunu çalıştırmadığımız için cursor kaldığı yerden sonra istenilen kadar verdi.\n",
    "rows"
   ]
  },
  {
   "cell_type": "code",
   "execution_count": 58,
   "metadata": {},
   "outputs": [],
   "source": [
    "def read_query(conn, query):\n",
    "    csr = conn.cursor()\n",
    "    results = None\n",
    "    csr.execute(query)\n",
    "    results = csr.fetchall()\n",
    "    csr.close()\n",
    "    del csr\n",
    "    return results"
   ]
  },
  {
   "cell_type": "code",
   "execution_count": 62,
   "metadata": {},
   "outputs": [
    {
     "output_type": "error",
     "ename": "Error",
     "evalue": "('HY000', '[HY000] [Microsoft][ODBC Driver 17 for SQL Server]Connection is busy with results for another command (0) (SQLExecDirectW)')",
     "traceback": [
      "\u001b[1;31m---------------------------------------------------------------------------\u001b[0m",
      "\u001b[1;31mError\u001b[0m                                     Traceback (most recent call last)",
      "\u001b[1;32m<ipython-input-62-b5b6e5d9425f>\u001b[0m in \u001b[0;36m<module>\u001b[1;34m\u001b[0m\n\u001b[0;32m      1\u001b[0m \u001b[0mquery\u001b[0m \u001b[1;33m=\u001b[0m \u001b[1;34m\"\"\"SELECT ID, FirstName, LastName FROM TestA\"\"\"\u001b[0m\u001b[1;33m\u001b[0m\u001b[1;33m\u001b[0m\u001b[0m\n\u001b[1;32m----> 2\u001b[1;33m \u001b[0mresults\u001b[0m \u001b[1;33m=\u001b[0m \u001b[0mread_query\u001b[0m\u001b[1;33m(\u001b[0m\u001b[0mconn\u001b[0m\u001b[1;33m,\u001b[0m \u001b[0mquery\u001b[0m\u001b[1;33m)\u001b[0m\u001b[1;33m\u001b[0m\u001b[1;33m\u001b[0m\u001b[0m\n\u001b[0m",
      "\u001b[1;32m<ipython-input-58-4b5de08ec1c7>\u001b[0m in \u001b[0;36mread_query\u001b[1;34m(conn, query)\u001b[0m\n\u001b[0;32m      2\u001b[0m     \u001b[0mcsr\u001b[0m \u001b[1;33m=\u001b[0m \u001b[0mconn\u001b[0m\u001b[1;33m.\u001b[0m\u001b[0mcursor\u001b[0m\u001b[1;33m(\u001b[0m\u001b[1;33m)\u001b[0m\u001b[1;33m\u001b[0m\u001b[1;33m\u001b[0m\u001b[0m\n\u001b[0;32m      3\u001b[0m     \u001b[0mresults\u001b[0m \u001b[1;33m=\u001b[0m \u001b[1;32mNone\u001b[0m\u001b[1;33m\u001b[0m\u001b[1;33m\u001b[0m\u001b[0m\n\u001b[1;32m----> 4\u001b[1;33m     \u001b[0mcsr\u001b[0m\u001b[1;33m.\u001b[0m\u001b[0mexecute\u001b[0m\u001b[1;33m(\u001b[0m\u001b[0mquery\u001b[0m\u001b[1;33m)\u001b[0m\u001b[1;33m\u001b[0m\u001b[1;33m\u001b[0m\u001b[0m\n\u001b[0m\u001b[0;32m      5\u001b[0m     \u001b[0mresults\u001b[0m \u001b[1;33m=\u001b[0m \u001b[0mcsr\u001b[0m\u001b[1;33m.\u001b[0m\u001b[0mfetchall\u001b[0m\u001b[1;33m(\u001b[0m\u001b[1;33m)\u001b[0m\u001b[1;33m\u001b[0m\u001b[1;33m\u001b[0m\u001b[0m\n\u001b[0;32m      6\u001b[0m     \u001b[0mcsr\u001b[0m\u001b[1;33m.\u001b[0m\u001b[0mclose\u001b[0m\u001b[1;33m(\u001b[0m\u001b[1;33m)\u001b[0m\u001b[1;33m\u001b[0m\u001b[1;33m\u001b[0m\u001b[0m\n",
      "\u001b[1;31mError\u001b[0m: ('HY000', '[HY000] [Microsoft][ODBC Driver 17 for SQL Server]Connection is busy with results for another command (0) (SQLExecDirectW)')"
     ]
    }
   ],
   "source": [
    "query = \"\"\"SELECT ID, FirstName, LastName FROM TestA\"\"\"\n",
    "results = read_query(conn, query)"
   ]
  },
  {
   "cell_type": "code",
   "execution_count": 60,
   "metadata": {},
   "outputs": [
    {
     "output_type": "execute_result",
     "data": {
      "text/plain": [
       "[(8, 'Aaaa', 'Bbbb'), (9, 'Bruce', 'Lee')]"
      ]
     },
     "metadata": {},
     "execution_count": 60
    }
   ],
   "source": [
    "rows = csr.fetchmany(2)\n",
    "rows"
   ]
  },
  {
   "cell_type": "code",
   "execution_count": 64,
   "metadata": {},
   "outputs": [],
   "source": [
    "conn.close()"
   ]
  },
  {
   "cell_type": "code",
   "execution_count": 35,
   "metadata": {},
   "outputs": [
    {
     "output_type": "execute_result",
     "data": {
      "text/plain": [
       "[(4, 'Bruce', 'Lee'),\n",
       " (5, 'Bob', 'Marley'),\n",
       " (6, 'Bob', 'Marley'),\n",
       " (7, 'Mel', 'Gibson'),\n",
       " (8, 'Aaaa', 'Bbbb'),\n",
       " (9, 'Bruce', 'Lee'),\n",
       " (10, 'Bob', 'Marley'),\n",
       " (11, 'Mel', 'Gibson'),\n",
       " (12, 'Aaaa', 'Bbbb'),\n",
       " (13, 'Bruce', 'Lee'),\n",
       " (14, 'Bob', 'Marley'),\n",
       " (15, 'Mel', 'Gibson'),\n",
       " (16, 'Aaaa', 'Bbbb'),\n",
       " (17, 'Bruce', 'Lee'),\n",
       " (18, 'Bob', 'Marley'),\n",
       " (19, 'Mel', 'Gibson'),\n",
       " (20, 'Tom', 'Cat'),\n",
       " (21, 'Jerry', 'Mouse'),\n",
       " (22, 'Stefan', 'Müller'),\n",
       " (23, 'Dennis', 'Bergkamp')]"
      ]
     },
     "metadata": {},
     "execution_count": 35
    }
   ],
   "source": [
    "results"
   ]
  },
  {
   "cell_type": "code",
   "execution_count": 73,
   "metadata": {},
   "outputs": [],
   "source": [
    "csr = conn.cursor()"
   ]
  },
  {
   "cell_type": "code",
   "execution_count": null,
   "metadata": {},
   "outputs": [],
   "source": []
  },
  {
   "cell_type": "code",
   "execution_count": null,
   "metadata": {},
   "outputs": [],
   "source": []
  }
 ],
 "metadata": {
  "kernelspec": {
   "name": "python385jvsc74a57bd03c2df0d7370b0df33c20888d4b4f4ffda9a98746859ffab3755b4a81a58352d8",
   "display_name": "Python 3.8.5 64-bit ('e_kur': virtualenv)"
  },
  "language_info": {
   "codemirror_mode": {
    "name": "ipython",
    "version": 3
   },
   "file_extension": ".py",
   "mimetype": "text/x-python",
   "name": "python",
   "nbconvert_exporter": "python",
   "pygments_lexer": "ipython3",
   "version": "3.8.5"
  }
 },
 "nbformat": 4,
 "nbformat_minor": 4
}